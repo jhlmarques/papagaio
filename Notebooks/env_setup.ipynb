{
 "cells": [
  {
   "cell_type": "code",
   "execution_count": null,
   "id": "25e3b837-3ef2-478b-bf79-a269763ca417",
   "metadata": {
    "collapsed": false,
    "gradient": {
     "editing": false,
     "source_hidden": false
    }
   },
   "outputs": [
    {
     "name": "stdout",
     "output_type": "stream",
     "text": [
      "Found existing installation: pandas 1.2.0\r\n"
     ]
    },
    {
     "name": "stdout",
     "output_type": "stream",
     "text": [
      "Uninstalling pandas-1.2.0:\r\n"
     ]
    },
    {
     "name": "stdout",
     "output_type": "stream",
     "text": [
      "  Successfully uninstalled pandas-1.2.0\r\n"
     ]
    }
   ],
   "source": [
    "!pip install -q music21\n",
    "!pip install -q torch\n",
    "!pip install -q fastprogress\n",
    "!pip install -q pandas==1.3.4\n",
    "!pip install -q torchsummary\n",
    "# !pip install -q midi2audio\n",
    "#!pip install EPMS"
   ]
  }
 ],
 "metadata": {
  "kernelspec": {
   "name": "python3",
   "language": "python",
   "display_name": "Python 3"
  }
 },
 "nbformat": 4,
 "nbformat_minor": 5
}