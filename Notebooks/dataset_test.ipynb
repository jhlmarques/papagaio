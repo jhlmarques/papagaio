{
 "cells": [
  {
   "cell_type": "code",
   "execution_count": 1,
   "metadata": {
    "collapsed": true
   },
   "outputs": [
    {
     "name": "stdout",
     "output_type": "stream",
     "text": [
      "importing Jupyter notebook from env_setup.ipynb\n",
      "importing Jupyter notebook from datasets.ipynb\n",
      "importing Jupyter notebook from lstm_predictor.ipynb\n"
     ]
    },
    {
     "ename": "ValueError",
     "evalue": "num_samples should be a positive integer value, but got num_samples=0",
     "output_type": "error",
     "traceback": [
      "\u001B[1;31m---------------------------------------------------------------------------\u001B[0m",
      "\u001B[1;31mValueError\u001B[0m                                Traceback (most recent call last)",
      "\u001B[1;32m<ipython-input-1-e409482ebcfc>\u001B[0m in \u001B[0;36m<module>\u001B[1;34m\u001B[0m\n\u001B[0;32m     11\u001B[0m \u001B[1;31m# test\u001B[0m\u001B[1;33m\u001B[0m\u001B[1;33m\u001B[0m\u001B[1;33m\u001B[0m\u001B[0m\n\u001B[0;32m     12\u001B[0m \u001B[0mpianoDataset\u001B[0m \u001B[1;33m=\u001B[0m \u001B[0mdatasets\u001B[0m\u001B[1;33m.\u001B[0m\u001B[0mInstrumentDataset\u001B[0m\u001B[1;33m(\u001B[0m\u001B[0mpath\u001B[0m\u001B[1;33m,\u001B[0m \u001B[1;34m'Piano'\u001B[0m\u001B[1;33m,\u001B[0m \u001B[0mkb_size\u001B[0m\u001B[1;33m)\u001B[0m\u001B[1;33m\u001B[0m\u001B[1;33m\u001B[0m\u001B[0m\n\u001B[1;32m---> 13\u001B[1;33m \u001B[0mpianoDataLoader\u001B[0m \u001B[1;33m=\u001B[0m \u001B[0mdatasets\u001B[0m\u001B[1;33m.\u001B[0m\u001B[0mDataLoader\u001B[0m\u001B[1;33m(\u001B[0m\u001B[0mpianoDataset\u001B[0m\u001B[1;33m,\u001B[0m \u001B[0mbatch_size\u001B[0m\u001B[1;33m=\u001B[0m\u001B[1;36m1\u001B[0m\u001B[1;33m,\u001B[0m \u001B[0mshuffle\u001B[0m\u001B[1;33m=\u001B[0m\u001B[1;32mTrue\u001B[0m\u001B[1;33m)\u001B[0m\u001B[1;33m\u001B[0m\u001B[1;33m\u001B[0m\u001B[0m\n\u001B[0m\u001B[0;32m     14\u001B[0m \u001B[1;33m\u001B[0m\u001B[0m\n\u001B[0;32m     15\u001B[0m \u001B[0mprint\u001B[0m\u001B[1;33m(\u001B[0m\u001B[1;34mf'Dataset length: {len(pianoDataset)} songs.'\u001B[0m\u001B[1;33m)\u001B[0m\u001B[1;33m\u001B[0m\u001B[1;33m\u001B[0m\u001B[0m\n",
      "\u001B[1;32mc:\\users\\vitor\\appdata\\local\\programs\\python\\python39\\lib\\site-packages\\torch\\utils\\data\\dataloader.py\u001B[0m in \u001B[0;36m__init__\u001B[1;34m(self, dataset, batch_size, shuffle, sampler, batch_sampler, num_workers, collate_fn, pin_memory, drop_last, timeout, worker_init_fn, multiprocessing_context, generator, prefetch_factor, persistent_workers)\u001B[0m\n\u001B[0;32m    268\u001B[0m                     \u001B[1;31m# Cannot statically verify that dataset is Sized\u001B[0m\u001B[1;33m\u001B[0m\u001B[1;33m\u001B[0m\u001B[1;33m\u001B[0m\u001B[0m\n\u001B[0;32m    269\u001B[0m                     \u001B[1;31m# Somewhat related: see NOTE [ Lack of Default `__len__` in Python Abstract Base Classes ]\u001B[0m\u001B[1;33m\u001B[0m\u001B[1;33m\u001B[0m\u001B[1;33m\u001B[0m\u001B[0m\n\u001B[1;32m--> 270\u001B[1;33m                     \u001B[0msampler\u001B[0m \u001B[1;33m=\u001B[0m \u001B[0mRandomSampler\u001B[0m\u001B[1;33m(\u001B[0m\u001B[0mdataset\u001B[0m\u001B[1;33m,\u001B[0m \u001B[0mgenerator\u001B[0m\u001B[1;33m=\u001B[0m\u001B[0mgenerator\u001B[0m\u001B[1;33m)\u001B[0m  \u001B[1;31m# type: ignore[arg-type]\u001B[0m\u001B[1;33m\u001B[0m\u001B[1;33m\u001B[0m\u001B[0m\n\u001B[0m\u001B[0;32m    271\u001B[0m                 \u001B[1;32melse\u001B[0m\u001B[1;33m:\u001B[0m\u001B[1;33m\u001B[0m\u001B[1;33m\u001B[0m\u001B[0m\n\u001B[0;32m    272\u001B[0m                     \u001B[0msampler\u001B[0m \u001B[1;33m=\u001B[0m \u001B[0mSequentialSampler\u001B[0m\u001B[1;33m(\u001B[0m\u001B[0mdataset\u001B[0m\u001B[1;33m)\u001B[0m  \u001B[1;31m# type: ignore[arg-type]\u001B[0m\u001B[1;33m\u001B[0m\u001B[1;33m\u001B[0m\u001B[0m\n",
      "\u001B[1;32mc:\\users\\vitor\\appdata\\local\\programs\\python\\python39\\lib\\site-packages\\torch\\utils\\data\\sampler.py\u001B[0m in \u001B[0;36m__init__\u001B[1;34m(self, data_source, replacement, num_samples, generator)\u001B[0m\n\u001B[0;32m    100\u001B[0m \u001B[1;33m\u001B[0m\u001B[0m\n\u001B[0;32m    101\u001B[0m         \u001B[1;32mif\u001B[0m \u001B[1;32mnot\u001B[0m \u001B[0misinstance\u001B[0m\u001B[1;33m(\u001B[0m\u001B[0mself\u001B[0m\u001B[1;33m.\u001B[0m\u001B[0mnum_samples\u001B[0m\u001B[1;33m,\u001B[0m \u001B[0mint\u001B[0m\u001B[1;33m)\u001B[0m \u001B[1;32mor\u001B[0m \u001B[0mself\u001B[0m\u001B[1;33m.\u001B[0m\u001B[0mnum_samples\u001B[0m \u001B[1;33m<=\u001B[0m \u001B[1;36m0\u001B[0m\u001B[1;33m:\u001B[0m\u001B[1;33m\u001B[0m\u001B[1;33m\u001B[0m\u001B[0m\n\u001B[1;32m--> 102\u001B[1;33m             raise ValueError(\"num_samples should be a positive integer \"\n\u001B[0m\u001B[0;32m    103\u001B[0m                              \"value, but got num_samples={}\".format(self.num_samples))\n\u001B[0;32m    104\u001B[0m \u001B[1;33m\u001B[0m\u001B[0m\n",
      "\u001B[1;31mValueError\u001B[0m: num_samples should be a positive integer value, but got num_samples=0"
     ]
    }
   ],
   "source": [
    "!pip install -q import_ipynb\n",
    "import import_ipynb\n",
    "\n",
    "import env_setup\n",
    "import datasets\n",
    "import lstm_predictor\n",
    "import pprint\n",
    "\n",
    "from music21 import instrument as m21instrument\n",
    "\n",
    "path = 'Data/'\n",
    "kb_size = 88\n",
    "# test\n",
    "pianoDataset = datasets.InstrumentDataset(path, 'Piano', kb_size)\n",
    "pianoDataLoader = datasets.DataLoader(pianoDataset, batch_size=1, shuffle=True)\n",
    "\n",
    "print(f'Dataset length: {len(pianoDataset)} songs.')\n",
    "\n",
    "# print(pianoDataset[0])\n",
    "\n",
    "# LSTM = lstm_predictor.LSTM()\n",
    "\n",
    "for song in pianoDataLoader:\n",
    "\n",
    "    # Clause guard for empty instrument in song\n",
    "    if len(song) == 0:\n",
    "        continue\n",
    "\n",
    "    mhe, velocities = song\n",
    "    mhe = mhe[0]\n",
    "    velocities = velocities[0]\n",
    "\n",
    "    # print(type(song), '\\n' ,len(song), song)\n",
    "    training_samples = datasets.TrainingSamples(mhe, 16)\n",
    "\n",
    "    # print(len(training_samples[1][0]))\n",
    "\n",
    "    # DL depth = 1\n",
    "    training_dataloader1 = datasets.DataLoader(training_samples, batch_size=1, shuffle=False)\n",
    "\n",
    "    # print(training_samples[0])\n",
    "\n",
    "    # DL depth = 4\n",
    "    # training_dataloader4 = datasets.DataLoader(training_samples, batch_size=4, shuffle=False)\n",
    "\n",
    "    # print(len(training_dataloader1))\n",
    "    # print(len(training_dataloader4))\n",
    "\n",
    "\n",
    "    # for sample in training_dataloader1:\n",
    "    #     pprint.pprint(sample[1])\n",
    "    #     agent.predictor.train()\n",
    "    sample_iterator = iter(training_dataloader1)\n",
    "    print(next(sample_iterator))"
   ]
  }
 ],
 "metadata": {
  "kernelspec": {
   "display_name": "Python 3",
   "language": "python",
   "name": "python3"
  },
  "language_info": {
   "codemirror_mode": {
    "name": "ipython",
    "version": 2
   },
   "file_extension": ".py",
   "mimetype": "text/x-python",
   "name": "python",
   "nbconvert_exporter": "python",
   "pygments_lexer": "ipython2",
   "version": "2.7.6"
  }
 },
 "nbformat": 4,
 "nbformat_minor": 0
}