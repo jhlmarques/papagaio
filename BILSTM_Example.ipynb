{
 "cells": [
  {
   "cell_type": "markdown",
   "id": "beginning-framing",
   "metadata": {
    "gradient": {
     "editing": false
    }
   },
   "source": [
    "# Papagaio - MIDI generation using Bi-Directional LSTM"
   ]
  },
  {
   "cell_type": "markdown",
   "id": "female-trash",
   "metadata": {
    "gradient": {
     "editing": false
    }
   },
   "source": [
    "## Setup\n",
    "\n",
    "##### Install, import and configure dependencies"
   ]
  },
  {
   "cell_type": "code",
   "execution_count": 127,
   "id": "complicated-occurrence",
   "metadata": {
    "collapsed": false,
    "gradient": {
     "editing": true,
     "source_hidden": false
    },
    "jupyter": {
     "outputs_hidden": false
    }
   },
   "outputs": [],
   "source": [
    "!pip install -q music21\n",
    "!pip install -q fastprogress\n",
    "# !pip install -q midi2audio\n",
    "# !pip install -q fluidsynth"
   ]
  },
  {
   "cell_type": "code",
   "execution_count": 128,
   "id": "powerful-baseline",
   "metadata": {
    "collapsed": false,
    "gradient": {
     "editing": false,
     "source_hidden": false
    },
    "jupyter": {
     "outputs_hidden": false
    }
   },
   "outputs": [],
   "source": [
    "# Basic libraries\n",
    "import os\n",
    "import random\n",
    "import time\n",
    "import pickle\n",
    "import glob\n",
    "from pathlib import Path\n",
    "import numpy as np\n",
    "import pandas as pd\n",
    "import matplotlib.pyplot as plt\n",
    "import torch.nn.functional as F\n",
    "\n",
    "# Preprocessing data libraries\n",
    "from torch.utils.data import Dataset\n",
    "from torch.utils.data import DataLoader\n",
    "from torch.utils.data import TensorDataset\n",
    "\n",
    "# Model libraries\n",
    "import torch\n",
    "import torch.nn as nn\n",
    "import torch.optim as optim\n",
    "\n",
    "# Data visualization\n",
    "from torch.utils.tensorboard import SummaryWriter\n",
    "\n",
    "# Utils\n",
    "import music21\n",
    "from fastprogress.fastprogress import master_bar, progress_bar\n",
    "\n",
    "# Playing files\n",
    "# from midi2audio import FluidSynth\n",
    "# import midi2audio\n",
    "import pygame\n",
    "\n",
    "# Codification modules\n",
    "from ems import serialisation, deserialisation\n",
    "\n",
    "# Environment setup\n",
    "%matplotlib inline\n",
    "# music21.configure.run()\n",
    "import notebook"
   ]
  },
  {
   "cell_type": "markdown",
   "id": "built-pennsylvania",
   "metadata": {
    "gradient": {
     "editing": false
    }
   },
   "source": [
    "##### Set device"
   ]
  },
  {
   "cell_type": "code",
   "execution_count": 129,
   "id": "structural-cigarette",
   "metadata": {
    "collapsed": false,
    "gradient": {
     "editing": false,
     "source_hidden": false
    },
    "jupyter": {
     "outputs_hidden": false
    }
   },
   "outputs": [
    {
     "data": {
      "text/plain": "device(type='cuda', index=0)"
     },
     "execution_count": 129,
     "metadata": {},
     "output_type": "execute_result"
    }
   ],
   "source": [
    "device = torch.device(\"cuda:0\") if torch.cuda.is_available() else torch.device(\"cpu\")\n",
    "device"
   ]
  },
  {
   "cell_type": "markdown",
   "id": "optimum-extreme",
   "metadata": {
    "gradient": {
     "editing": false
    }
   },
   "source": [
    "# DATASET"
   ]
  },
  {
   "cell_type": "markdown",
   "id": "promising-trading",
   "metadata": {
    "gradient": {
     "editing": false
    }
   },
   "source": [
    "##### Separate Stackframe data from Info data "
   ]
  },
  {
   "cell_type": "code",
   "execution_count": 130,
   "id": "persistent-stationery",
   "metadata": {
    "gradient": {
     "editing": false,
     "source_hidden": false
    },
    "jupyter": {
     "source_hidden": true
    }
   },
   "outputs": [],
   "source": [
    "\n",
    "# TODO: receive a input int for the amount of info data (currently 4).\n",
    "#       this way testing will be easier.\n",
    "\n",
    "def getPerformance(data, first_frame, last_frame, to_float=True):\n",
    "    stackframe = data.iloc[first_frame:last_frame, 4:]\n",
    "    stackframe = stackframe.to_numpy()\n",
    "\n",
    "    if to_float:\n",
    "        stackframe.astype(float)\n",
    "        stackframe = stackframe + 0.0\n",
    "\n",
    "    return stackframe\n",
    "\n",
    "def getInfo(data, first_frame, last_frame):\n",
    "    infos = data.iloc[first_frame:last_frame, 0:4]\n",
    "    return infos"
   ]
  },
  {
   "cell_type": "markdown",
   "id": "6472e50f-4ced-4d1a-b62b-b1d93b09b317",
   "metadata": {
    "gradient": {
     "editing": false
    }
   },
   "source": [
    "##### Merge Stackframe and Info to match the codification"
   ]
  },
  {
   "cell_type": "code",
   "execution_count": 131,
   "id": "43bf69f8-4df1-4b40-a214-8f656cf2aaf5",
   "metadata": {
    "collapsed": false,
    "gradient": {
     "editing": false,
     "source_hidden": false
    }
   },
   "outputs": [],
   "source": [
    "def mergeData(infos, stackframe, instrument, midi_offset):\n",
    "\n",
    "    # (A, B, C)\n",
    "    #\n",
    "    # A -> number of measures (bars)\n",
    "    # B -> number of frames (resolution)\n",
    "    # C -> number of notes (keyboard size)\n",
    "\n",
    "    n_measures = stackframe.shape[0]\n",
    "    resolution = stackframe.shape[1]\n",
    "    keyboard_size = stackframe.shape[2]\n",
    "\n",
    "    # Generate note names and use as column\n",
    "    sf_columns = [serialisation.key_index2note(i, midi_offset).nameWithOctave for i in range(keyboard_size)]\n",
    "    \n",
    "    # Initialize blank df with notes column\n",
    "    measures = pd.DataFrame([], columns=sf_columns)\n",
    "    measures.index.name = 'inst'\n",
    "    \n",
    "    # \n",
    "    for i in range(n_measures):\n",
    "        indexes = pd.Series([instrument for i in range(resolution)])\n",
    "        decoded_measure = pd.DataFrame(stackframe[i], columns=sf_columns).set_index(pd.Index(indexes)) \n",
    "        measures = measures.append(decoded_measure) \n",
    "\n",
    "    print(f'Info shape {infos.shape} | measures shape {measures.shape}')\n",
    "    \n",
    "    output = pd.concat([infos, measures], axis=1)\n",
    "\n",
    "    print(f'Result shape {output.shape}')\n",
    "\n",
    "    return output\n",
    "\n",
    "# Reshape so that we have all frames in one dimension\n",
    "# generated_sf = generated_sf.reshape(-1, generated_sf.shape[-1])\n",
    "# print(f'Reshaped stackframe: \\n {generated_sf} \\t Shape: {generated_sf.shape}')\n"
   ]
  },
  {
   "cell_type": "markdown",
   "id": "unexpected-compensation",
   "metadata": {
    "gradient": {
     "editing": false
    }
   },
   "source": [
    "##### Read all dataset and isolates the data from a single instrument"
   ]
  },
  {
   "cell_type": "code",
   "execution_count": 132,
   "id": "mature-parker",
   "metadata": {
    "collapsed": false,
    "gradient": {
     "editing": false,
     "source_hidden": false
    },
    "jupyter": {
     "outputs_hidden": false
    }
   },
   "outputs": [],
   "source": [
    "def createInstrumentPerformanceDataset(datasetPath, instrument, resolution):\n",
    "    instrumentPerformanceDataset = []\n",
    "    interpreted_files = glob.glob(f'{datasetPath}**/**.pkl', recursive=True)\n",
    "    for int_file in interpreted_files:\n",
    "\n",
    "        int_file_path = Path(int_file)\n",
    "        interpreted_file = pd.read_pickle(int_file_path)\n",
    "        # print(interpreted_file.head())\n",
    "\n",
    "        interpreted_instrument = interpreted_file[interpreted_file.index==instrument]\n",
    "        if(interpreted_instrument.empty):\n",
    "            continue\n",
    "        # print(interpreted_instrument.head())\n",
    "\n",
    "        first_frame = 0\n",
    "        last_frame = len(interpreted_instrument)\n",
    "\n",
    "        interpreted_performance = getPerformance(interpreted_instrument, first_frame=first_frame, last_frame=last_frame)\n",
    "        # print(interpreted_performance.head())\n",
    "        \n",
    "        instrumentPerformanceDataset.append(np.array(interpreted_performance))\n",
    "      \n",
    "    return instrumentPerformanceDataset"
   ]
  },
  {
   "cell_type": "markdown",
   "id": "ranging-poverty",
   "metadata": {
    "gradient": {
     "editing": false
    }
   },
   "source": [
    "##### Split dataset into two blocks, one frame apart at every single index"
   ]
  },
  {
   "cell_type": "code",
   "execution_count": 133,
   "id": "antique-roulette",
   "metadata": {
    "collapsed": false,
    "gradient": {
     "editing": false,
     "source_hidden": false
    },
    "jupyter": {
     "outputs_hidden": false
    }
   },
   "outputs": [],
   "source": [
    "def preparePerformanceTrainingExamples(dataset, resolution):\n",
    "    X = []\n",
    "    y = []\n",
    "    \n",
    "    # create two arrays X, y with bars\n",
    "    for performance in dataset:\n",
    "        # create the frame blocks shifted in one position\n",
    "        for i in range(performance.shape[0] - resolution):\n",
    "            j = i + resolution\n",
    "            xa = performance[i:j]\n",
    "            ya = performance[i+1:j+1]\n",
    "            X.append(xa)\n",
    "            y.append(ya)\n",
    "        \n",
    "    X = np.array(X, dtype='float64')\n",
    "    y = np.array(y, dtype='float64')\n",
    "    X = torch.from_numpy(X)\n",
    "    y = torch.from_numpy(y)\n",
    "    \n",
    "    training_ds = TensorDataset(X, y) # (X, y)\n",
    "    return training_ds"
   ]
  },
  {
   "cell_type": "code",
   "execution_count": 134,
   "id": "2ec2a182-c939-4475-84a2-265b5cab65e9",
   "metadata": {
    "collapsed": false,
    "gradient": {
     "editing": false,
     "source_hidden": false
    }
   },
   "outputs": [],
   "source": [
    "def getPerformanceSample(dataloader):\n",
    "\n",
    "  n_training_examples = len(dataloader.dataset.tensors[0])\n",
    "\n",
    "  input = torch.zeros(n_training_examples, SETTINGS.RESOLUTION, SETTINGS.KEYBOARD_SIZE)\n",
    "  target = torch.zeros(n_training_examples, SETTINGS.RESOLUTION, SETTINGS.KEYBOARD_SIZE)\n",
    "\n",
    "  for sample, (xb, yb) in enumerate(dataloader): # gets the samples\n",
    "    input[sample] = xb\n",
    "    target[sample] = yb\n",
    "  \n",
    "  return input, target"
   ]
  },
  {
   "cell_type": "markdown",
   "id": "violent-baker",
   "metadata": {
    "gradient": {
     "editing": false
    }
   },
   "source": [
    "# MODEL"
   ]
  },
  {
   "cell_type": "markdown",
   "id": "optical-marriage",
   "metadata": {
    "gradient": {
     "editing": false
    }
   },
   "source": [
    "##### Define model class with heritage of PyTorch's Module"
   ]
  },
  {
   "cell_type": "code",
   "execution_count": 135,
   "id": "academic-brisbane",
   "metadata": {
    "collapsed": false,
    "gradient": {
     "editing": false,
     "source_hidden": false
    },
    "jupyter": {
     "outputs_hidden": false
    }
   },
   "outputs": [],
   "source": [
    "class BI_LSTM(nn.Module):\n",
    "  def __init__(self, input_size, hidden_size, num_layers, output_size):\n",
    "    super(BI_LSTM, self).__init__()\n",
    "\n",
    "    self.hidden_size = hidden_size\n",
    "    self.num_layers = num_layers\n",
    "    self.lstm = nn.LSTM(input_size, hidden_size, num_layers, batch_first=False, bidirectional=True)\n",
    "    self.fc1 = nn.Linear(hidden_size*2, hidden_size*2)\n",
    "    self.fc2 = nn.Linear(hidden_size*2, output_size)\n",
    "    self.relu = nn.ReLU()\n",
    "    self.softplus = nn.Softplus(beta=500, threshold=0)\n",
    "    self.sigmoid = nn.Sigmoid()\n",
    "\n",
    "    # self.fromInstrument = \n",
    "    # self.toInstrument = \n",
    "\n",
    "  def forward(self, x, hidden, cell):\n",
    "    # Passing in the input and hidden state into the model and obtaining outputs\n",
    "    out, (hidden, cell) = self.lstm(x.unsqueeze(1), (hidden, cell))\n",
    "\n",
    "    # Reshaping the outputs such that it can be fit into the fully connected layer\n",
    "    out = out.contiguous().view(-1, self.hidden_size*2)\n",
    "\n",
    "    out = self.fc2(out)\n",
    "    out = self.sigmoid(out)\n",
    "    \n",
    "    return out, (hidden, cell)\n",
    "\n",
    "  def init_hidden(self, batch_size):\n",
    "    # This method generates the first hidden state of zeros which we'll use in the forward pass\n",
    "    # We'll send the tensor holding the hidden state to the device we specified earlier as well\n",
    "    hidden = torch.zeros(self.num_layers*2, batch_size, self.hidden_size).to(device)\n",
    "    cell = torch.zeros(self.num_layers*2, batch_size, self.hidden_size).to(device)\n",
    "    \n",
    "    return hidden, cell"
   ]
  },
  {
   "cell_type": "code",
   "execution_count": 136,
   "id": "composed-measurement",
   "metadata": {
    "collapsed": false,
    "gradient": {
     "editing": true,
     "source_hidden": false
    },
    "jupyter": {
     "outputs_hidden": false
    }
   },
   "outputs": [],
   "source": [
    "def plot_loss_update(epoch, epochs, mb, train_loss):\n",
    "    \"\"\" dynamically print the loss plot during the training/validation loop.\n",
    "        expects epoch to start from 1.\n",
    "    \"\"\"\n",
    "    x = range(1, epoch+1)\n",
    "    y = train_loss\n",
    "    graphs = [[x,train_loss]]\n",
    "    x_margin = 0.2\n",
    "    y_margin = 0.05\n",
    "    x_bounds = [1-x_margin, epochs+x_margin]\n",
    "    y_bounds = [np.min(y)-y_margin, np.max(y)+y_margin]\n",
    "\n",
    "    mb.update_graph(graphs, x_bounds, y_bounds)"
   ]
  },
  {
   "cell_type": "markdown",
   "id": "million-diameter",
   "metadata": {
    "gradient": {
     "editing": false
    }
   },
   "source": [
    "##### Training loop"
   ]
  },
  {
   "cell_type": "code",
   "execution_count": 137,
   "id": "martial-partition",
   "metadata": {
    "collapsed": false,
    "gradient": {
     "editing": false,
     "source_hidden": false
    },
    "jupyter": {
     "outputs_hidden": false
    }
   },
   "outputs": [],
   "source": [
    "def train(model, optimizer, loss_fn, dataloader, save_as, batch_size=1, num_epochs=50):\n",
    "    writer = SummaryWriter()\n",
    "\n",
    "    print(\"[Train Starting]\")\n",
    "\n",
    "    s_time = time.time()\n",
    "\n",
    "    mb = master_bar(range(1, num_epochs+1))\n",
    "    mb.names = ['Loss', 'FrameBlock']\n",
    "    train_loss = []\n",
    "\n",
    "\n",
    "    for epoch_index in mb:\n",
    "        count = 0\n",
    "        training_loss = 0.0\n",
    "\n",
    "        n_training_examples = len(dataloader.dataset.tensors[0])\n",
    "\n",
    "        input, target = getPerformanceSample(dataloader)\n",
    "        input = input.to(device)\n",
    "        target = target.to(device)\n",
    "        \n",
    "        # Initialize hidden and cells\n",
    "        hidden, cell = model.init_hidden(batch_size)\n",
    "\n",
    "        for training_example_index in progress_bar(range(n_training_examples), parent=mb):\n",
    "\n",
    "            # Generate predictions\n",
    "            frameblock = input[training_example_index,:]\n",
    "            output, (hidden, cell) = model(frameblock, hidden, cell)\n",
    "            \n",
    "\n",
    "            # Compute the loss and backpropag\n",
    "            loss_step = loss_fn(output, target[training_example_index, :])\n",
    "\n",
    "            hidden = hidden.detach()\n",
    "            cell = cell.detach()\n",
    "\n",
    "            count += 1\n",
    "\n",
    "            loss_step.backward() # Does backpropagation and calculates gradients\n",
    "            optimizer.step() # Updates the weights accordingly\n",
    "            optimizer.zero_grad() # Clears existing gradients from previous frame\n",
    "\n",
    "            training_loss += loss_step.item()\n",
    "\n",
    "            mb.child.comment = f'[Loss {training_loss:.8f}]'\n",
    "\n",
    "        training_loss /= len(dataloader.dataset)\n",
    "        writer.add_scalar(\"Loss/train\", training_loss, epoch_index)\n",
    "\n",
    "        train_loss.append(training_loss)\n",
    "        mb.main_bar.comment = f'[Epoch {epoch_index} | Loss {training_loss:.8f}]'\n",
    "        plot_loss_update(epoch_index, num_epochs, mb, train_loss)\n",
    "\n",
    "        if (epoch_index % 5) == 0:\n",
    "            torch.save(model, f'{save_as}[{epoch_index}].pt')\n",
    "\n",
    "    writer.flush()\n",
    "    writer.close()\n",
    "\n",
    "    print(f'[Finished training with Loss {training_loss:.8f} (took {time.time() - s_time} seconds)]')"
   ]
  },
  {
   "cell_type": "markdown",
   "id": "floating-spine",
   "metadata": {
    "gradient": {
     "editing": false
    }
   },
   "source": [
    "##### Given the model and some context data, generate a certain amount of measures (default: 1)"
   ]
  },
  {
   "cell_type": "code",
   "execution_count": 138,
   "id": "realistic-overhead",
   "metadata": {
    "collapsed": false,
    "gradient": {
     "editing": false,
     "source_hidden": false
    },
    "jupyter": {
     "outputs_hidden": false
    }
   },
   "outputs": [],
   "source": [
    "# TODO: Be able to especify the number of measures to predict!\n",
    "\n",
    "@torch.no_grad()\n",
    "def generateMeasures(model, context, resolution, amount=1, temperature=0.5, batch_size=1):\n",
    "    hidden, cell = model.init_hidden(batch_size)\n",
    "\n",
    "    if isinstance(context, torch.Tensor):\n",
    "      # send to gpu\n",
    "      context_performance_block = context.cuda()\n",
    "      # cast to float\n",
    "      context_performance_block = context_performance_block.float()\n",
    "    else:\n",
    "      context_performance_block = torch.from_numpy(context.astype(float)).float().to(device)\n",
    "\n",
    "    # amount of frameblocks in the context input\n",
    "    n_context_performance_block = len(context_performance_block) - resolution\n",
    "\n",
    "    # getting context iterating over\n",
    "    # N-1 of the frameblocks\n",
    "\n",
    "    for i in range(n_context_performance_block):\n",
    "        context_performance = context_performance_block[i:i + resolution]\n",
    "\n",
    "        # we dont care about the output here.\n",
    "        # we are just feeding the model with the\n",
    "        # context we received as input\n",
    "        _, (hidden, cell) = model(context_performance,\n",
    "                                  hidden, cell)\n",
    "\n",
    "    # we must get the output from the last context fb\n",
    "    last_context_performance = context_performance_block[n_context_performance_block:]\n",
    "\n",
    "    output_measures = []\n",
    "    for _ in range(amount):\n",
    "      \n",
    "      out, (hidden, cell) = model(last_context_performance, hidden, cell)\n",
    "      \n",
    "      # generate the other remaining frames\n",
    "      for i in range(resolution- 1):\n",
    "        out = torch.where(out >= (1-temperature), 1, 0).float()\n",
    "        out, (hidden, cell) = model(out, hidden, cell)\n",
    "\n",
    "        # update last frame block\n",
    "        last_context_performance = out\n",
    "\n",
    "\n",
    "      out = np.where(out.cpu() >= (1-temperature), True, False)\n",
    "      output_measures.append(out)\n",
    "\n",
    "    # print(out, out.shape)\n",
    "    return np.array(output_measures, dtype=bool)"
   ]
  },
  {
   "cell_type": "markdown",
   "id": "administrative-proposition",
   "metadata": {
    "gradient": {
     "editing": false
    }
   },
   "source": [
    "##### Instanciate with desired parameters"
   ]
  },
  {
   "cell_type": "code",
   "execution_count": 139,
   "id": "worldwide-fifty",
   "metadata": {
    "collapsed": false,
    "gradient": {
     "editing": false,
     "source_hidden": false
    },
    "jupyter": {
     "outputs_hidden": false
    }
   },
   "outputs": [],
   "source": [
    "SETTINGS = pd.Series(\n",
    "  {\n",
    "    'RESOLUTION': 36, # Frame per measure amount\n",
    "    'KEYBOARD_SIZE': 88, # Amount of keys in the Model's Keyboard\n",
    "    'KEYBOARD_OFFSET': 20 # MIDI index for the first Model's Keyboard key\n",
    "  }\n",
    ")\n",
    "\n",
    "\n",
    "NUM_LAYERS = 4\n",
    "\n",
    "# Instantiate the model with hyperparameters\n",
    "# We'll also set the model to the device that we defined earlier\n",
    "model = BI_LSTM(input_size=SETTINGS.KEYBOARD_SIZE,\n",
    "                output_size=SETTINGS.KEYBOARD_SIZE,\n",
    "                hidden_size=SETTINGS.RESOLUTION,\n",
    "                num_layers=NUM_LAYERS).to(device)"
   ]
  },
  {
   "cell_type": "markdown",
   "id": "extra-satellite",
   "metadata": {
    "gradient": {
     "editing": false
    }
   },
   "source": [
    "# TRAIN MODEL\n",
    "\n",
    "##### Set training options"
   ]
  },
  {
   "cell_type": "code",
   "execution_count": 140,
   "id": "opponent-calculator",
   "metadata": {
    "collapsed": false,
    "gradient": {
     "editing": false,
     "source_hidden": false
    },
    "jupyter": {
     "outputs_hidden": false
    }
   },
   "outputs": [],
   "source": [
    "lr = 3e-4 # Learning Rate\n",
    "optimizer = optim.Adam(model.parameters(), lr=lr)\n",
    "loss_fn = nn.BCELoss() # Binary Cross Entropy\n",
    "\n",
    "MODELS_PATH = '../models/'\n",
    "MODEL_NAME = 'BI_LSTM'\n",
    "\n",
    "N_EPOCHS = 50 # Number of times that the model will go trough all the "
   ]
  },
  {
   "cell_type": "markdown",
   "id": "398f4739-7e80-4205-ab32-de11091984f8",
   "metadata": {
    "gradient": {
     "editing": false
    }
   },
   "source": [
    "##### Let's create a dataset for a given instrument, in this case I'll choose piano"
   ]
  },
  {
   "cell_type": "code",
   "execution_count": 141,
   "id": "6e68fc89-68f2-4f16-8a80-2d2fe343f5af",
   "metadata": {
    "collapsed": false,
    "gradient": {
     "editing": false,
     "source_hidden": false
    }
   },
   "outputs": [
    {
     "name": "stdout",
     "output_type": "stream",
     "text": [
      "Dataset original, Instrument Electric guitar, Instrument Performance Dataset size 75\n"
     ]
    }
   ],
   "source": [
    "datasetName = 'original'\n",
    "datasetPath = f'../papagaio_dataset/interpreted/{datasetName}/' # dataset outside the repo\n",
    "\n",
    "modelType = 'prediction'\n",
    "modelPath  = f'../models/{modelType}/{datasetName}/'\n",
    "os.makedirs(modelPath, exist_ok=True)\n",
    "\n",
    "INSTRUMENT = 'Electric guitar'\n",
    "\n",
    "instrumentPerformanceDataset = createInstrumentPerformanceDataset(datasetPath, INSTRUMENT, SETTINGS.RESOLUTION)\n",
    "print(f'Dataset {datasetName}, Instrument {INSTRUMENT}, Instrument Performance Dataset size {len(instrumentPerformanceDataset)}')"
   ]
  },
  {
   "cell_type": "markdown",
   "id": "f9047906-e015-46e6-9227-d428f43b8bc2",
   "metadata": {
    "gradient": {
     "editing": false
    }
   },
   "source": [
    "##### Prepare training Dataset and Dataloader"
   ]
  },
  {
   "cell_type": "code",
   "execution_count": 142,
   "id": "a6b3d8e0-becc-4915-bfc1-5282832cf5e6",
   "metadata": {
    "collapsed": false,
    "gradient": {
     "editing": false,
     "source_hidden": false
    }
   },
   "outputs": [
    {
     "name": "stdout",
     "output_type": "stream",
     "text": [
      "Amount of training examples:\t161170\n"
     ]
    }
   ],
   "source": [
    "training_ds = preparePerformanceTrainingExamples(instrumentPerformanceDataset, SETTINGS.RESOLUTION)\n",
    "training_dl = DataLoader(training_ds, batch_size=1, shuffle=False)\n",
    "\n",
    "print(f'Amount of training examples:\\t{len(training_dl.dataset.tensors[0])}')"
   ]
  },
  {
   "cell_type": "markdown",
   "id": "future-hardware",
   "metadata": {
    "gradient": {
     "editing": false
    }
   },
   "source": [
    "### Run train"
   ]
  },
  {
   "cell_type": "code",
   "execution_count": 143,
   "id": "bright-setting",
   "metadata": {
    "collapsed": false,
    "gradient": {
     "editing": false,
     "source_hidden": false
    },
    "jupyter": {
     "outputs_hidden": false
    }
   },
   "outputs": [],
   "source": [
    "model = torch.load(\"models/BI_LSTM_[Electric guitar][5].pt\")\n",
    "# SAVE_AS = f'{modelPath}{MODEL_NAME}_[{INSTRUMENT}]' # Name of the output LSTM data\n",
    "\n",
    "#!jupyter nbextension enable --py widgetsnbextension\n",
    "# train(model, optimizer, loss_fn, training_dl, SAVE_AS, num_epochs=N_EPOCHS)"
   ]
  },
  {
   "cell_type": "markdown",
   "id": "ba92780e-8424-4a49-a099-060209cbc2de",
   "metadata": {
    "gradient": {
     "editing": false
    }
   },
   "source": [
    "# GENERATE\n",
    "##### Prepare context data representation"
   ]
  },
  {
   "cell_type": "code",
   "execution_count": 144,
   "id": "f8696fa0-b349-474d-913d-e5e60ae067e5",
   "metadata": {
    "collapsed": false,
    "gradient": {
     "editing": false,
     "source_hidden": false
    }
   },
   "outputs": [
    {
     "name": "stdout",
     "output_type": "stream",
     "text": [
      "Electric guitar context data shape (315, 92)\n",
      "Electric guitar context measures 8\n"
     ]
    }
   ],
   "source": [
    "# Read context file\n",
    "CONTEXT = pd.read_pickle(datasetPath + 'Foo Fighters/The Pretender.pkl')\n",
    "\n",
    "# Filter by instrument\n",
    "CONTEXT = CONTEXT[CONTEXT.index==INSTRUMENT]\n",
    "\n",
    "# If the file does not contain the instrument\n",
    "if len(CONTEXT) == 0:\n",
    "    raise ValueError(f'Oops, it seems that the selected context file does not contain this instrument ({INSTRUMENT}).')\n",
    "\n",
    "print(f'{INSTRUMENT} context data shape {CONTEXT.shape}')\n",
    "print(f'{INSTRUMENT} context measures {int(CONTEXT.shape[0] / SETTINGS.RESOLUTION)}')"
   ]
  },
  {
   "cell_type": "markdown",
   "id": "b9650113-8117-46fd-91e9-6a97c8bfb2ef",
   "metadata": {
    "gradient": {
     "editing": false
    }
   },
   "source": [
    "##### Set generation parameters"
   ]
  },
  {
   "cell_type": "code",
   "execution_count": 145,
   "id": "430a53f3-3f88-4bad-9ca2-e267a0867585",
   "metadata": {
    "collapsed": false,
    "gradient": {
     "editing": true,
     "source_hidden": false
    }
   },
   "outputs": [
    {
     "name": "stdout",
     "output_type": "stream",
     "text": [
      "CONTEXT_INFO: \n",
      "                 MIDI_CODE KS   TS TEMPO\n",
      "INSTRUMENT                             \n",
      "Electric guitar        27  C  4/4  90.0\n",
      "Electric guitar        27  C  4/4  90.0\n",
      "Electric guitar        27  C  4/4  90.0\n",
      "Electric guitar        27  C  4/4  90.0\n",
      "Electric guitar        27  C  4/4  90.0\n",
      "...                   ... ..  ...   ...\n",
      "Electric guitar        27  C  4/4  90.0\n",
      "Electric guitar        27  C  4/4  90.0\n",
      "Electric guitar        27  C  4/4  90.0\n",
      "Electric guitar        27  C  4/4  90.0\n",
      "Electric guitar        27  C  4/4  90.0\n",
      "\n",
      "[144 rows x 4 columns] \n",
      "\n",
      "\n",
      "CONTEXT_PERFOMANCE: \n",
      " [[0.0 0.0 0.0 ... 0.0 0.0 0.0]\n",
      " [0.0 0.0 0.0 ... 0.0 0.0 0.0]\n",
      " [0.0 0.0 0.0 ... 0.0 0.0 0.0]\n",
      " ...\n",
      " [0.0 0.0 0.0 ... 0.0 0.0 0.0]\n",
      " [0.0 0.0 0.0 ... 0.0 0.0 0.0]\n",
      " [0.0 0.0 0.0 ... 0.0 0.0 0.0]] \t Shape: (144, 88)\n",
      "GENERATED_INFO: \n",
      "                 MIDI_CODE KS   TS TEMPO\n",
      "INSTRUMENT                             \n",
      "Electric guitar        27  C  4/4  90.0\n",
      "Electric guitar        27  C  4/4  90.0\n",
      "Electric guitar        27  C  4/4  90.0\n",
      "Electric guitar        27  C  4/4  90.0\n",
      "Electric guitar        27  C  4/4  90.0\n",
      "...                   ... ..  ...   ...\n",
      "Electric guitar        27  C  4/4  90.0\n",
      "Electric guitar        27  C  4/4  90.0\n",
      "Electric guitar        27  C  4/4  90.0\n",
      "Electric guitar        27  C  4/4  90.0\n",
      "Electric guitar        27  C  4/4  90.0\n",
      "\n",
      "[144 rows x 4 columns]\n"
     ]
    }
   ],
   "source": [
    "CONTEXT_FIRST_MEASURE = 1\n",
    "CONTEXT_AMOUNT = 4 # Amount of measures of context\n",
    "GENERATE_AMOUNT = 4 # Amount of measures to generate\n",
    "TEMPERATURE = 0.5 # Predicted probability must be >= 80% to note be played\n",
    "\n",
    "# INFO_SIZE = 4\n",
    "\n",
    "first_context_frame = (CONTEXT_FIRST_MEASURE-1)*SETTINGS.RESOLUTION\n",
    "last_context_frame = first_context_frame + SETTINGS.RESOLUTION*CONTEXT_AMOUNT\n",
    "\n",
    "first_generated_frame = last_context_frame\n",
    "last_generated_frame = first_generated_frame + SETTINGS.RESOLUTION*GENERATE_AMOUNT\n",
    "\n",
    "context_info = getInfo(CONTEXT, first_context_frame, last_context_frame)\n",
    "context_performance = getPerformance(CONTEXT, first_context_frame, last_context_frame, to_float=True)\n",
    "\n",
    "generated_info = getInfo(CONTEXT, first_generated_frame, last_generated_frame)\n",
    "\n",
    "print(f'CONTEXT_INFO: \\n {context_info} \\n\\n')\n",
    "print(f'CONTEXT_PERFOMANCE: \\n {context_performance} \\t Shape: {context_performance.shape}')\n",
    "\n",
    "print(f'GENERATED_INFO: \\n {generated_info}')"
   ]
  },
  {
   "cell_type": "markdown",
   "id": "ae2e669e-d63d-495b-8a9c-63030bd9b8e2",
   "metadata": {
    "gradient": {
     "editing": false
    }
   },
   "source": [
    "##### Let's see the context we'll feed the model"
   ]
  },
  {
   "cell_type": "code",
   "execution_count": 146,
   "id": "42fac38c-75ac-4cdf-b62f-95e333af3346",
   "metadata": {
    "collapsed": false,
    "gradient": {
     "editing": false,
     "source_hidden": false
    }
   },
   "outputs": [
    {
     "data": {
      "text/plain": "<Figure size 720x432 with 1 Axes>",
      "image/png": "[encoded data removed]"
     },
     "metadata": {
      "image/png": {
       "width": 584,
       "height": 382
      }
     },
     "output_type": "display_data"
    }
   ],
   "source": [
    "deserialisation.file(CONTEXT, SETTINGS).plot()"
   ]
  },
  {
   "cell_type": "markdown",
   "id": "26fb98e3-5fe3-4695-8554-aabcab0c9a3b",
   "metadata": {
    "gradient": {
     "editing": false
    }
   },
   "source": [
    "##### Generate measures stackframes"
   ]
  },
  {
   "cell_type": "code",
   "execution_count": 157,
   "id": "7bf32858-c257-477d-b9b7-947f0948230b",
   "metadata": {
    "collapsed": false,
    "gradient": {
     "editing": false,
     "source_hidden": false
    }
   },
   "outputs": [
    {
     "name": "stdout",
     "output_type": "stream",
     "text": [
      "GENERATED PERFORMANCE: \n",
      " [[[False False False ... False False False]\n",
      "  [False False False ... False False False]\n",
      "  [False False False ... False False False]\n",
      "  ...\n",
      "  [False False False ... False False False]\n",
      "  [False False False ... False False False]\n",
      "  [False False False ... False False False]]\n",
      "\n",
      " [[False False False ... False False False]\n",
      "  [False False False ... False False False]\n",
      "  [False False False ... False False False]\n",
      "  ...\n",
      "  [False False False ... False False False]\n",
      "  [False False False ... False False False]\n",
      "  [False False False ... False False False]]\n",
      "\n",
      " [[False False False ... False False False]\n",
      "  [False False False ... False False False]\n",
      "  [False False False ... False False False]\n",
      "  ...\n",
      "  [False False False ... False False False]\n",
      "  [False False False ... False False False]\n",
      "  [False False False ... False False False]]\n",
      "\n",
      " [[False False False ... False False False]\n",
      "  [False False False ... False False False]\n",
      "  [False False False ... False False False]\n",
      "  ...\n",
      "  [False False False ... False False False]\n",
      "  [False False False ... False False False]\n",
      "  [False False False ... False False False]]] \t Shape: (4, 36, 88)\n",
      "Generated 4 measures in 1.0751984119415283 seconds\n"
     ]
    }
   ],
   "source": [
    "start_timer = time.time()\n",
    "generated_performance = generateMeasures(   model,\n",
    "                                            context_performance,\n",
    "                                            SETTINGS.RESOLUTION,\n",
    "                                            amount=GENERATE_AMOUNT,\n",
    "                                            temperature=TEMPERATURE\n",
    "                                            )\n",
    "end_timer = time.time()\n",
    "print(f'GENERATED PERFORMANCE: \\n {generated_performance} \\t Shape: {generated_performance.shape}')\n",
    "print(f'Generated {generated_performance.shape[0]} measures in {end_timer - start_timer} seconds')"
   ]
  },
  {
   "cell_type": "markdown",
   "id": "908db96d-d520-4a10-aa07-01aa0ecf56ec",
   "metadata": {
    "gradient": {
     "editing": false
    }
   },
   "source": [
    "##### Merge Info and StackFrame to get the complete, decodable representation"
   ]
  },
  {
   "cell_type": "code",
   "execution_count": 167,
   "id": "b38c66bb-82f9-4fd6-9465-eea041c59aa1",
   "metadata": {
    "collapsed": false,
    "gradient": {
     "editing": false,
     "source_hidden": false
    }
   },
   "outputs": [
    {
     "name": "stdout",
     "output_type": "stream",
     "text": [
      "Info shape (144, 4) | measures shape (144, 88)\n",
      "Result shape (144, 92)\n",
      "Generated representation: \n",
      "                 MIDI_CODE KS   TS TEMPO    G#0     A0    B-0     B0     C1    C#1     D1    E-1     E1     F1    F#1     G1    G#1     A1    B-1     B1     C2    C#2     D2    E-2     E2     F2    F#2     G2    G#2     A2    B-2     B2     C3    C#3     D3    E-3     E3     F3    F#3     G3    G#3     A3    B-3     B3     C4    C#4     D4    E-4    E4     F4    F#4     G4    G#4     A4    B-4     B4     C5    C#5     D5    E-5     E5     F5    F#5     G5    G#5     A5    B-5     B5     C6    C#6     D6    E-6     E6     F6    F#6     G6    G#6     A6    B-6     B6     C7    C#7     D7    E-7     E7     F7    F#7     G7    G#7     A7    B-7     B7\n",
      "Electric guitar        27  C  4/4  90.0  False  False  False  False  False  False  False  False  False  False  False  False  False  False  False  False  False  False  False  False  False  False  False  False  False  False  False  False  False  False  False  False  False  False  False  False  False  False  False  False  False   True  False  False  True  False  False  False  False  False  False  False  False  False  False  False  False  False  False  False  False  False  False  False  False  False  False  False  False  False  False  False  False  False  False  False  False  False  False  False  False  False  False  False  False  False  False  False\n",
      "Electric guitar        27  C  4/4  90.0  False  False  False  False  False  False  False  False  False  False  False  False  False  False  False  False  False  False  False  False  False  False  False  False  False  False  False  False  False  False  False  False  False  False  False  False  False  False  False  False  False   True  False  False  True  False  False  False  False  False  False  False  False  False  False  False  False  False  False  False  False  False  False  False  False  False  False  False  False  False  False  False  False  False  False  False  False  False  False  False  False  False  False  False  False  False  False  False\n",
      "Electric guitar        27  C  4/4  90.0  False  False  False  False  False  False  False  False  False  False  False  False  False  False  False  False  False  False  False  False  False  False  False  False  False  False  False  False  False  False  False  False  False  False  False  False  False  False  False  False  False  False  False  False  True  False  False  False  False  False  False  False  False  False  False  False  False  False  False  False  False  False  False  False  False  False  False  False  False  False  False  False  False  False  False  False  False  False  False  False  False  False  False  False  False  False  False  False\n",
      "Electric guitar        27  C  4/4  90.0  False  False  False  False  False  False  False  False  False  False  False  False  False  False  False  False  False  False  False  False  False  False  False  False  False  False  False  False  False  False  False  False  False  False  False  False  False  False  False  False  False  False  False  False  True  False  False  False  False  False  False  False  False  False  False  False  False  False  False  False  False  False  False  False  False  False  False  False  False  False  False  False  False  False  False  False  False  False  False  False  False  False  False  False  False  False  False  False\n",
      "Electric guitar        27  C  4/4  90.0  False  False  False  False  False  False  False  False  False  False  False  False  False  False  False  False  False  False  False  False  False  False  False  False  False  False  False  False  False  False  False  False  False  False  False  False  False  False  False  False  False  False  False  False  True  False  False  False  False  False  False  False  False  False  False  False  False  False  False  False  False  False  False  False  False  False  False  False  False  False  False  False  False  False  False  False  False  False  False  False  False  False  False  False  False  False  False  False\n",
      "Electric guitar        27  C  4/4  90.0  False  False  False  False  False  False  False  False  False  False  False  False  False  False  False  False  False  False  False  False  False  False  False  False  False  False  False  False  False  False  False  False  False  False  False  False  False  False  False  False  False  False  False  False  True  False  False  False  False  False  False  False  False  False  False  False  False  False  False  False  False  False  False  False  False  False  False  False  False  False  False  False  False  False  False  False  False  False  False  False  False  False  False  False  False  False  False  False\n",
      "Electric guitar        27  C  4/4  90.0  False  False  False  False  False  False  False  False  False  False  False  False  False  False  False  False  False  False  False  False  False  False  False  False  False  False  False  False  False  False  False  False  False  False  False  False  False  False  False  False  False  False  False  False  True  False  False  False  False  False  False  False  False  False  False  False  False  False  False  False  False  False  False  False  False  False  False  False  False  False  False  False  False  False  False  False  False  False  False  False  False  False  False  False  False  False  False  False\n",
      "Electric guitar        27  C  4/4  90.0  False  False  False  False  False  False  False  False  False  False  False  False  False  False  False  False  False  False  False  False  False  False  False  False  False  False  False  False  False  False  False  False  False  False  False  False  False  False  False  False  False  False  False  False  True  False  False  False  False  False  False  False  False  False  False  False  False  False  False  False  False  False  False  False  False  False  False  False  False  False  False  False  False  False  False  False  False  False  False  False  False  False  False  False  False  False  False  False\n",
      "Electric guitar        27  C  4/4  90.0  False  False  False  False  False  False  False  False  False  False  False  False  False  False  False  False  False  False  False  False  False  False  False  False  False  False  False  False  False  False  False  False  False  False  False  False  False  False  False  False  False  False  False  False  True  False  False  False  False  False  False  False  False  False  False  False  False  False  False  False  False  False  False  False  False  False  False  False  False  False  False  False  False  False  False  False  False  False  False  False  False  False  False  False  False  False  False  False\n",
      "Electric guitar        27  C  4/4  90.0  False  False  False  False  False  False  False  False  False  False  False  False  False  False  False  False  False  False  False  False  False  False  False  False  False  False  False  False  False  False  False  False  False  False  False  False  False  False  False  False  False  False  False  False  True  False  False  False  False  False  False  False  False  False  False  False  False  False  False  False  False  False  False  False  False  False  False  False  False  False  False  False  False  False  False  False  False  False  False  False  False  False  False  False  False  False  False  False\n",
      "Electric guitar        27  C  4/4  90.0  False  False  False  False  False  False  False  False  False  False  False  False  False  False  False  False  False  False  False  False  False  False  False  False  False  False  False  False  False  False  False  False  False  False  False  False  False  False  False  False  False  False  False  False  True  False  False  False  False  False  False  False  False  False  False  False  False  False  False  False  False  False  False  False  False  False  False  False  False  False  False  False  False  False  False  False  False  False  False  False  False  False  False  False  False  False  False  False\n",
      "Electric guitar        27  C  4/4  90.0  False  False  False  False  False  False  False  False  False  False  False  False  False  False  False  False  False  False  False  False  False  False  False  False  False  False  False  False  False  False  False  False  False  False  False  False  False  False  False  False  False  False  False  False  True  False  False  False  False  False  False  False  False  False  False  False  False  False  False  False  False  False  False  False  False  False  False  False  False  False  False  False  False  False  False  False  False  False  False  False  False  False  False  False  False  False  False  False\n",
      "Electric guitar        27  C  4/4  90.0  False  False  False  False  False  False  False  False  False  False  False  False  False  False  False  False  False  False  False  False  False  False  False  False  False  False  False  False  False  False  False  False  False  False  False  False  False  False  False  False  False  False  False  False  True  False  False  False  False  False  False  False  False  False  False  False  False  False  False  False  False  False  False  False  False  False  False  False  False  False  False  False  False  False  False  False  False  False  False  False  False  False  False  False  False  False  False  False\n",
      "Electric guitar        27  C  4/4  90.0  False  False  False  False  False  False  False  False  False  False  False  False  False  False  False  False  False  False  False  False  False  False  False  False  False  False  False  False  False  False  False  False  False  False  False  False  False  False  False  False  False  False  False  False  True  False  False  False  False  False  False  False  False  False  False  False  False  False  False  False  False  False  False  False  False  False  False  False  False  False  False  False  False  False  False  False  False  False  False  False  False  False  False  False  False  False  False  False\n",
      "Electric guitar        27  C  4/4  90.0  False  False  False  False  False  False  False  False  False  False  False  False  False  False  False  False  False  False  False  False  False  False  False  False  False  False  False  False  False  False  False  False  False  False  False  False  False  False  False  False  False  False  False  False  True  False  False  False  False  False  False  False  False  False  False  False  False  False  False  False  False  False  False  False  False  False  False  False  False  False  False  False  False  False  False  False  False  False  False  False  False  False  False  False  False  False  False  False\n",
      "Electric guitar        27  C  4/4  90.0  False  False  False  False  False  False  False  False  False  False  False  False  False  False  False  False  False  False  False  False  False  False  False  False  False  False  False  False  False  False  False  False  False  False  False  False  False  False  False  False  False  False  False  False  True  False  False  False  False  False  False  False  False  False  False  False  False  False  False  False  False  False  False  False  False  False  False  False  False  False  False  False  False  False  False  False  False  False  False  False  False  False  False  False  False  False  False  False\n",
      "Electric guitar        27  C  4/4  90.0  False  False  False  False  False  False  False  False  False  False  False  False  False  False  False  False  False  False  False  False  False  False  False  False  False  False  False  False  False  False  False  False  False  False  False  False  False  False  False  False  False  False  False  False  True  False  False  False  False  False  False  False  False  False  False  False  False  False  False  False  False  False  False  False  False  False  False  False  False  False  False  False  False  False  False  False  False  False  False  False  False  False  False  False  False  False  False  False\n",
      "Electric guitar        27  C  4/4  90.0  False  False  False  False  False  False  False  False  False  False  False  False  False  False  False  False  False  False  False  False  False  False  False  False  False  False  False  False  False  False  False  False  False  False  False  False  False  False  False  False  False  False  False  False  True  False  False  False  False  False  False  False  False  False  False  False  False  False  False  False  False  False  False  False  False  False  False  False  False  False  False  False  False  False  False  False  False  False  False  False  False  False  False  False  False  False  False  False\n",
      "Electric guitar        27  C  4/4  90.0  False  False  False  False  False  False  False  False  False  False  False  False  False  False  False  False  False  False  False  False  False  False  False  False  False  False  False  False  False  False  False  False  False  False  False  False  False  False  False  False  False  False  False  False  True  False  False  False  False  False  False  False  False  False  False  False  False  False  False  False  False  False  False  False  False  False  False  False  False  False  False  False  False  False  False  False  False  False  False  False  False  False  False  False  False  False  False  False\n",
      "Electric guitar        27  C  4/4  90.0  False  False  False  False  False  False  False  False  False  False  False  False  False  False  False  False  False  False  False  False  False  False  False  False  False  False  False  False  False  False  False  False  False  False  False  False  False  False  False  False  False  False  False  False  True  False  False  False  False  False  False  False  False  False  False  False  False  False  False  False  False  False  False  False  False  False  False  False  False  False  False  False  False  False  False  False  False  False  False  False  False  False  False  False  False  False  False  False\n",
      "Electric guitar        27  C  4/4  90.0  False  False  False  False  False  False  False  False  False  False  False  False  False  False  False  False  False  False  False  False  False  False  False  False  False  False  False  False  False  False  False  False  False  False  False  False  False  False  False  False  False  False  False  False  True  False  False  False  False  False  False  False  False  False  False  False  False  False  False  False  False  False  False  False  False  False  False  False  False  False  False  False  False  False  False  False  False  False  False  False  False  False  False  False  False  False  False  False\n",
      "Electric guitar        27  C  4/4  90.0  False  False  False  False  False  False  False  False  False  False  False  False  False  False  False  False  False  False  False  False  False  False  False  False  False  False  False  False  False  False  False  False  False  False  False  False  False  False  False  False  False  False  False  False  True  False  False  False  False  False  False  False  False  False  False  False  False  False  False  False  False  False  False  False  False  False  False  False  False  False  False  False  False  False  False  False  False  False  False  False  False  False  False  False  False  False  False  False\n",
      "Electric guitar        27  C  4/4  90.0  False  False  False  False  False  False  False  False  False  False  False  False  False  False  False  False  False  False  False  False  False  False  False  False  False  False  False  False  False  False  False  False  False  False  False  False  False  False  False  False  False  False  False  False  True  False  False  False  False  False  False  False  False  False  False  False  False  False  False  False  False  False  False  False  False  False  False  False  False  False  False  False  False  False  False  False  False  False  False  False  False  False  False  False  False  False  False  False\n",
      "Electric guitar        27  C  4/4  90.0  False  False  False  False  False  False  False  False  False  False  False  False  False  False  False  False  False  False  False  False  False  False  False  False  False  False  False  False  False  False  False  False  False  False  False  False  False  False  False  False  False  False  False  False  True  False  False  False  False  False  False  False  False  False  False  False  False  False  False  False  False  False  False  False  False  False  False  False  False  False  False  False  False  False  False  False  False  False  False  False  False  False  False  False  False  False  False  False\n",
      "Electric guitar        27  C  4/4  90.0  False  False  False  False  False  False  False  False  False  False  False  False  False  False  False  False  False  False  False  False  False  False  False  False  False  False  False  False  False  False  False  False  False  False  False  False  False  False  False  False  False  False  False  False  True  False  False  False  False  False  False  False  False  False  False  False  False  False  False  False  False  False  False  False  False  False  False  False  False  False  False  False  False  False  False  False  False  False  False  False  False  False  False  False  False  False  False  False\n",
      "Electric guitar        27  C  4/4  90.0  False  False  False  False  False  False  False  False  False  False  False  False  False  False  False  False  False  False  False  False  False  False  False  False  False  False  False  False  False  False  False  False  False  False  False  False  False  False  False  False  False  False  False  False  True  False  False  False  False  False  False  False  False  False  False  False  False  False  False  False  False  False  False  False  False  False  False  False  False  False  False  False  False  False  False  False  False  False  False  False  False  False  False  False  False  False  False  False\n",
      "Electric guitar        27  C  4/4  90.0  False  False  False  False  False  False  False  False  False  False  False  False  False  False  False  False  False  False  False  False  False  False  False  False  False  False  False  False  False  False  False  False  False  False  False  False  False  False  False  False  False  False  False  False  True  False  False  False  False  False  False  False  False  False  False  False  False  False  False  False  False  False  False  False  False  False  False  False  False  False  False  False  False  False  False  False  False  False  False  False  False  False  False  False  False  False  False  False\n",
      "Electric guitar        27  C  4/4  90.0  False  False  False  False  False  False  False  False  False  False  False  False  False  False  False  False  False  False  False  False  False  False  False  False  False  False  False  False  False  False  False  False  False  False  False  False  False  False  False  False  False  False  False  False  True  False  False  False  False  False  False  False  False  False  False  False  False  False  False  False  False  False  False  False  False  False  False  False  False  False  False  False  False  False  False  False  False  False  False  False  False  False  False  False  False  False  False  False\n",
      "Electric guitar        27  C  4/4  90.0  False  False  False  False  False  False  False  False  False  False  False  False  False  False  False  False  False  False  False  False  False  False  False  False  False  False  False  False  False  False  False  False  False  False  False  False  False  False  False  False  False  False  False  False  True  False  False  False  False  False  False  False  False  False  False  False  False  False  False  False  False  False  False  False  False  False  False  False  False  False  False  False  False  False  False  False  False  False  False  False  False  False  False  False  False  False  False  False\n",
      "Electric guitar        27  C  4/4  90.0  False  False  False  False  False  False  False  False  False  False  False  False  False  False  False  False  False  False  False  False  False  False  False  False  False  False  False  False  False  False  False  False  False  False  False  False  False  False  False  False  False  False  False  False  True  False  False  False  False  False  False  False  False  False  False  False  False  False  False  False  False  False  False  False  False  False  False  False  False  False  False  False  False  False  False  False  False  False  False  False  False  False  False  False  False  False  False  False\n",
      "Electric guitar        27  C  4/4  90.0  False  False  False  False  False  False  False  False  False  False  False  False  False  False  False  False  False  False  False  False  False  False  False  False  False  False  False  False  False  False  False  False  False  False  False  False  False  False  False  False  False  False  False  False  True  False  False  False  False  False  False  False  False  False  False  False  False  False  False  False  False  False  False  False  False  False  False  False  False  False  False  False  False  False  False  False  False  False  False  False  False  False  False  False  False  False  False  False\n",
      "Electric guitar        27  C  4/4  90.0  False  False  False  False  False  False  False  False  False  False  False  False  False  False  False  False  False  False  False  False  False  False  False  False  False  False  False  False  False  False  False  False  False  False  False  False  False  False  False  False  False  False  False  False  True  False  False  False  False  False  False  False  False  False  False  False  False  False  False  False  False  False  False  False  False  False  False  False  False  False  False  False  False  False  False  False  False  False  False  False  False  False  False  False  False  False  False  False\n",
      "Electric guitar        27  C  4/4  90.0  False  False  False  False  False  False  False  False  False  False  False  False  False  False  False  False  False  False  False  False  False  False  False  False  False  False  False  False  False  False  False  False  False  False  False  False  False  False  False  False  False  False  False  False  True  False  False  False  False  False  False  False  False  False  False  False  False  False  False  False  False  False  False  False  False  False  False  False  False  False  False  False  False  False  False  False  False  False  False  False  False  False  False  False  False  False  False  False\n",
      "Electric guitar        27  C  4/4  90.0  False  False  False  False  False  False  False  False  False  False  False  False  False  False  False  False  False  False  False  False  False  False  False  False  False  False  False  False  False  False  False  False  False  False  False  False  False  False  False  False  False  False  False  False  True  False  False  False  False  False  False  False  False  False  False  False  False  False  False  False  False  False  False  False  False  False  False  False  False  False  False  False  False  False  False  False  False  False  False  False  False  False  False  False  False  False  False  False\n",
      "Electric guitar        27  C  4/4  90.0  False  False  False  False  False  False  False  False  False  False  False  False  False  False  False  False  False  False  False  False  False  False  False  False  False  False  False  False  False  False  False  False  False  False  False  False  False  False  False  False  False   True  False  False  True  False  False  False  False  False  False  False  False  False  False  False  False  False  False  False  False  False  False  False  False  False  False  False  False  False  False  False  False  False  False  False  False  False  False  False  False  False  False  False  False  False  False  False\n",
      "Electric guitar        27  C  4/4  90.0  False  False  False  False  False  False  False  False  False  False  False  False  False  False  False  False  False  False  False  False  False  False  False  False  False  False  False  False  False  False  False  False  False  False  False  False  False  False  False  False  False   True  False  False  True  False  False  False  False  False  False  False  False  False  False  False  False  False  False  False  False  False  False  False  False  False  False  False  False  False  False  False  False  False  False  False  False  False  False  False  False  False  False  False  False  False  False  False\n",
      "Electric guitar        27  C  4/4  90.0  False  False  False  False  False  False  False  False  False  False  False  False  False  False  False  False  False  False  False  False  False  False  False  False  False  False  False  False  False  False  False  False  False  False  False  False  False  False  False  False  False   True  False  False  True  False  False  False  False  False  False  False  False  False  False  False  False  False  False  False  False  False  False  False  False  False  False  False  False  False  False  False  False  False  False  False  False  False  False  False  False  False  False  False  False  False  False  False\n",
      "Electric guitar        27  C  4/4  90.0  False  False  False  False  False  False  False  False  False  False  False  False  False  False  False  False  False  False  False  False  False  False  False  False  False  False  False  False  False  False  False  False  False  False  False  False  False  False  False  False  False   True  False  False  True  False  False  False  False  False  False  False  False  False  False  False  False  False  False  False  False  False  False  False  False  False  False  False  False  False  False  False  False  False  False  False  False  False  False  False  False  False  False  False  False  False  False  False\n",
      "Electric guitar        27  C  4/4  90.0  False  False  False  False  False  False  False  False  False  False  False  False  False  False  False  False  False  False  False  False  False  False  False  False  False  False  False  False  False  False  False  False  False  False  False  False  False  False  False  False  False   True  False  False  True  False  False  False  False  False  False  False  False  False  False  False  False  False  False  False  False  False  False  False  False  False  False  False  False  False  False  False  False  False  False  False  False  False  False  False  False  False  False  False  False  False  False  False\n",
      "Electric guitar        27  C  4/4  90.0  False  False  False  False  False  False  False  False  False  False  False  False  False  False  False  False  False  False  False  False  False  False  False  False  False  False  False  False  False  False  False  False  False  False  False  False  False  False  False  False  False  False  False  False  True  False  False  False  False  False  False  False  False  False  False  False  False  False  False  False  False  False  False  False  False  False  False  False  False  False  False  False  False  False  False  False  False  False  False  False  False  False  False  False  False  False  False  False\n",
      "Electric guitar        27  C  4/4  90.0  False  False  False  False  False  False  False  False  False  False  False  False  False  False  False  False  False  False  False  False  False  False  False  False  False  False  False  False  False  False  False  False  False  False  False  False  False  False  False  False  False  False  False  False  True  False  False  False  False  False  False  False  False  False  False  False  False  False  False  False  False  False  False  False  False  False  False  False  False  False  False  False  False  False  False  False  False  False  False  False  False  False  False  False  False  False  False  False\n",
      "Electric guitar        27  C  4/4  90.0  False  False  False  False  False  False  False  False  False  False  False  False  False  False  False  False  False  False  False  False  False  False  False  False  False  False  False  False  False  False  False  False  False  False  False  False  False  False  False  False  False  False  False  False  True  False  False  False  False  False  False  False  False  False  False  False  False  False  False  False  False  False  False  False  False  False  False  False  False  False  False  False  False  False  False  False  False  False  False  False  False  False  False  False  False  False  False  False\n",
      "Electric guitar        27  C  4/4  90.0  False  False  False  False  False  False  False  False  False  False  False  False  False  False  False  False  False  False  False  False  False  False  False  False  False  False  False  False  False  False  False  False  False  False  False  False  False  False  False  False  False  False  False  False  True  False  False  False  False  False  False  False  False  False  False  False  False  False  False  False  False  False  False  False  False  False  False  False  False  False  False  False  False  False  False  False  False  False  False  False  False  False  False  False  False  False  False  False\n",
      "Electric guitar        27  C  4/4  90.0  False  False  False  False  False  False  False  False  False  False  False  False  False  False  False  False  False  False  False  False  False  False  False  False  False  False  False  False  False  False  False  False  False  False  False  False  False  False  False  False  False  False  False  False  True  False  False  False  False  False  False  False  False  False  False  False  False  False  False  False  False  False  False  False  False  False  False  False  False  False  False  False  False  False  False  False  False  False  False  False  False  False  False  False  False  False  False  False\n",
      "Electric guitar        27  C  4/4  90.0  False  False  False  False  False  False  False  False  False  False  False  False  False  False  False  False  False  False  False  False  False  False  False  False  False  False  False  False  False  False  False  False  False  False  False  False  False  False  False  False  False  False  False  False  True  False  False  False  False  False  False  False  False  False  False  False  False  False  False  False  False  False  False  False  False  False  False  False  False  False  False  False  False  False  False  False  False  False  False  False  False  False  False  False  False  False  False  False\n",
      "Electric guitar        27  C  4/4  90.0  False  False  False  False  False  False  False  False  False  False  False  False  False  False  False  False  False  False  False  False  False  False  False  False  False  False  False  False  False  False  False  False  False  False  False  False  False  False  False  False  False  False  False  False  True  False  False  False  False  False  False  False  False  False  False  False  False  False  False  False  False  False  False  False  False  False  False  False  False  False  False  False  False  False  False  False  False  False  False  False  False  False  False  False  False  False  False  False\n",
      "Electric guitar        27  C  4/4  90.0  False  False  False  False  False  False  False  False  False  False  False  False  False  False  False  False  False  False  False  False  False  False  False  False  False  False  False  False  False  False  False  False  False  False  False  False  False  False  False  False  False  False  False  False  True  False  False  False  False  False  False  False  False  False  False  False  False  False  False  False  False  False  False  False  False  False  False  False  False  False  False  False  False  False  False  False  False  False  False  False  False  False  False  False  False  False  False  False\n",
      "Electric guitar        27  C  4/4  90.0  False  False  False  False  False  False  False  False  False  False  False  False  False  False  False  False  False  False  False  False  False  False  False  False  False  False  False  False  False  False  False  False  False  False  False  False  False  False  False  False  False  False  False  False  True  False  False  False  False  False  False  False  False  False  False  False  False  False  False  False  False  False  False  False  False  False  False  False  False  False  False  False  False  False  False  False  False  False  False  False  False  False  False  False  False  False  False  False\n",
      "Electric guitar        27  C  4/4  90.0  False  False  False  False  False  False  False  False  False  False  False  False  False  False  False  False  False  False  False  False  False  False  False  False  False  False  False  False  False  False  False  False  False  False  False  False  False  False  False  False  False  False  False  False  True  False  False  False  False  False  False  False  False  False  False  False  False  False  False  False  False  False  False  False  False  False  False  False  False  False  False  False  False  False  False  False  False  False  False  False  False  False  False  False  False  False  False  False\n",
      "Electric guitar        27  C  4/4  90.0  False  False  False  False  False  False  False  False  False  False  False  False  False  False  False  False  False  False  False  False  False  False  False  False  False  False  False  False  False  False  False  False  False  False  False  False  False  False  False  False  False  False  False  False  True  False  False  False  False  False  False  False  False  False  False  False  False  False  False  False  False  False  False  False  False  False  False  False  False  False  False  False  False  False  False  False  False  False  False  False  False  False  False  False  False  False  False  False\n",
      "Electric guitar        27  C  4/4  90.0  False  False  False  False  False  False  False  False  False  False  False  False  False  False  False  False  False  False  False  False  False  False  False  False  False  False  False  False  False  False  False  False  False  False  False  False  False  False  False  False  False  False  False  False  True  False  False  False  False  False  False  False  False  False  False  False  False  False  False  False  False  False  False  False  False  False  False  False  False  False  False  False  False  False  False  False  False  False  False  False  False  False  False  False  False  False  False  False\n",
      "Electric guitar        27  C  4/4  90.0  False  False  False  False  False  False  False  False  False  False  False  False  False  False  False  False  False  False  False  False  False  False  False  False  False  False  False  False  False  False  False  False  False  False  False  False  False  False  False  False  False  False  False  False  True  False  False  False  False  False  False  False  False  False  False  False  False  False  False  False  False  False  False  False  False  False  False  False  False  False  False  False  False  False  False  False  False  False  False  False  False  False  False  False  False  False  False  False\n",
      "Electric guitar        27  C  4/4  90.0  False  False  False  False  False  False  False  False  False  False  False  False  False  False  False  False  False  False  False  False  False  False  False  False  False  False  False  False  False  False  False  False  False  False  False  False  False  False  False  False  False  False  False  False  True  False  False  False  False  False  False  False  False  False  False  False  False  False  False  False  False  False  False  False  False  False  False  False  False  False  False  False  False  False  False  False  False  False  False  False  False  False  False  False  False  False  False  False\n",
      "Electric guitar        27  C  4/4  90.0  False  False  False  False  False  False  False  False  False  False  False  False  False  False  False  False  False  False  False  False  False  False  False  False  False  False  False  False  False  False  False  False  False  False  False  False  False  False  False  False  False  False  False  False  True  False  False  False  False  False  False  False  False  False  False  False  False  False  False  False  False  False  False  False  False  False  False  False  False  False  False  False  False  False  False  False  False  False  False  False  False  False  False  False  False  False  False  False\n",
      "Electric guitar        27  C  4/4  90.0  False  False  False  False  False  False  False  False  False  False  False  False  False  False  False  False  False  False  False  False  False  False  False  False  False  False  False  False  False  False  False  False  False  False  False  False  False  False  False  False  False  False  False  False  True  False  False  False  False  False  False  False  False  False  False  False  False  False  False  False  False  False  False  False  False  False  False  False  False  False  False  False  False  False  False  False  False  False  False  False  False  False  False  False  False  False  False  False\n",
      "Electric guitar        27  C  4/4  90.0  False  False  False  False  False  False  False  False  False  False  False  False  False  False  False  False  False  False  False  False  False  False  False  False  False  False  False  False  False  False  False  False  False  False  False  False  False  False  False  False  False  False  False  False  True  False  False  False  False  False  False  False  False  False  False  False  False  False  False  False  False  False  False  False  False  False  False  False  False  False  False  False  False  False  False  False  False  False  False  False  False  False  False  False  False  False  False  False\n",
      "Electric guitar        27  C  4/4  90.0  False  False  False  False  False  False  False  False  False  False  False  False  False  False  False  False  False  False  False  False  False  False  False  False  False  False  False  False  False  False  False  False  False  False  False  False  False  False  False  False  False  False  False  False  True  False  False  False  False  False  False  False  False  False  False  False  False  False  False  False  False  False  False  False  False  False  False  False  False  False  False  False  False  False  False  False  False  False  False  False  False  False  False  False  False  False  False  False\n",
      "Electric guitar        27  C  4/4  90.0  False  False  False  False  False  False  False  False  False  False  False  False  False  False  False  False  False  False  False  False  False  False  False  False  False  False  False  False  False  False  False  False  False  False  False  False  False  False  False  False  False  False  False  False  True  False  False  False  False  False  False  False  False  False  False  False  False  False  False  False  False  False  False  False  False  False  False  False  False  False  False  False  False  False  False  False  False  False  False  False  False  False  False  False  False  False  False  False\n",
      "Electric guitar        27  C  4/4  90.0  False  False  False  False  False  False  False  False  False  False  False  False  False  False  False  False  False  False  False  False  False  False  False  False  False  False  False  False  False  False  False  False  False  False  False  False  False  False  False  False  False  False  False  False  True  False  False  False  False  False  False  False  False  False  False  False  False  False  False  False  False  False  False  False  False  False  False  False  False  False  False  False  False  False  False  False  False  False  False  False  False  False  False  False  False  False  False  False\n",
      "Electric guitar        27  C  4/4  90.0  False  False  False  False  False  False  False  False  False  False  False  False  False  False  False  False  False  False  False  False  False  False  False  False  False  False  False  False  False  False  False  False  False  False  False  False  False  False  False  False  False  False  False  False  True  False  False  False  False  False  False  False  False  False  False  False  False  False  False  False  False  False  False  False  False  False  False  False  False  False  False  False  False  False  False  False  False  False  False  False  False  False  False  False  False  False  False  False\n",
      "Electric guitar        27  C  4/4  90.0  False  False  False  False  False  False  False  False  False  False  False  False  False  False  False  False  False  False  False  False  False  False  False  False  False  False  False  False  False  False  False  False  False  False  False  False  False  False  False  False  False  False  False  False  True  False  False  False  False  False  False  False  False  False  False  False  False  False  False  False  False  False  False  False  False  False  False  False  False  False  False  False  False  False  False  False  False  False  False  False  False  False  False  False  False  False  False  False\n",
      "Electric guitar        27  C  4/4  90.0  False  False  False  False  False  False  False  False  False  False  False  False  False  False  False  False  False  False  False  False  False  False  False  False  False  False  False  False  False  False  False  False  False  False  False  False  False  False  False  False  False  False  False  False  True  False  False  False  False  False  False  False  False  False  False  False  False  False  False  False  False  False  False  False  False  False  False  False  False  False  False  False  False  False  False  False  False  False  False  False  False  False  False  False  False  False  False  False\n",
      "Electric guitar        27  C  4/4  90.0  False  False  False  False  False  False  False  False  False  False  False  False  False  False  False  False  False  False  False  False  False  False  False  False  False  False  False  False  False  False  False  False  False  False  False  False  False  False  False  False  False  False  False  False  True  False  False  False  False  False  False  False  False  False  False  False  False  False  False  False  False  False  False  False  False  False  False  False  False  False  False  False  False  False  False  False  False  False  False  False  False  False  False  False  False  False  False  False\n",
      "Electric guitar        27  C  4/4  90.0  False  False  False  False  False  False  False  False  False  False  False  False  False  False  False  False  False  False  False  False  False  False  False  False  False  False  False  False  False  False  False  False  False  False  False  False  False  False  False  False  False  False  False  False  True  False  False  False  False  False  False  False  False  False  False  False  False  False  False  False  False  False  False  False  False  False  False  False  False  False  False  False  False  False  False  False  False  False  False  False  False  False  False  False  False  False  False  False\n",
      "Electric guitar        27  C  4/4  90.0  False  False  False  False  False  False  False  False  False  False  False  False  False  False  False  False  False  False  False  False  False  False  False  False  False  False  False  False  False  False  False  False  False  False  False  False  False  False  False  False  False  False  False  False  True  False  False  False  False  False  False  False  False  False  False  False  False  False  False  False  False  False  False  False  False  False  False  False  False  False  False  False  False  False  False  False  False  False  False  False  False  False  False  False  False  False  False  False\n",
      "Electric guitar        27  C  4/4  90.0  False  False  False  False  False  False  False  False  False  False  False  False  False  False  False  False  False  False  False  False  False  False  False  False  False  False  False  False  False  False  False  False  False  False  False  False  False  False  False  False  False  False  False  False  True  False  False  False  False  False  False  False  False  False  False  False  False  False  False  False  False  False  False  False  False  False  False  False  False  False  False  False  False  False  False  False  False  False  False  False  False  False  False  False  False  False  False  False\n",
      "Electric guitar        27  C  4/4  90.0  False  False  False  False  False  False  False  False  False  False  False  False  False  False  False  False  False  False  False  False  False  False  False  False  False  False  False  False  False  False  False  False  False  False  False  False  False  False  False  False  False  False  False  False  True  False  False  False  False  False  False  False  False  False  False  False  False  False  False  False  False  False  False  False  False  False  False  False  False  False  False  False  False  False  False  False  False  False  False  False  False  False  False  False  False  False  False  False\n",
      "Electric guitar        27  C  4/4  90.0  False  False  False  False  False  False  False  False  False  False  False  False  False  False  False  False  False  False  False  False  False  False  False  False  False  False  False  False  False  False  False  False  False  False  False  False  False  False  False  False  False  False  False  False  True  False  False  False  False  False  False  False  False  False  False  False  False  False  False  False  False  False  False  False  False  False  False  False  False  False  False  False  False  False  False  False  False  False  False  False  False  False  False  False  False  False  False  False\n",
      "Electric guitar        27  C  4/4  90.0  False  False  False  False  False  False  False  False  False  False  False  False  False  False  False  False  False  False  False  False  False  False  False  False  False  False  False  False  False  False  False  False  False  False  False  False  False  False  False  False  False  False  False  False  True  False  False  False  False  False  False  False  False  False  False  False  False  False  False  False  False  False  False  False  False  False  False  False  False  False  False  False  False  False  False  False  False  False  False  False  False  False  False  False  False  False  False  False\n",
      "Electric guitar        27  C  4/4  90.0  False  False  False  False  False  False  False  False  False  False  False  False  False  False  False  False  False  False  False  False  False  False  False  False  False  False  False  False  False  False  False  False  False  False  False  False  False  False  False  False  False  False  False  False  True  False  False  False  False  False  False  False  False  False  False  False  False  False  False  False  False  False  False  False  False  False  False  False  False  False  False  False  False  False  False  False  False  False  False  False  False  False  False  False  False  False  False  False\n",
      "Electric guitar        27  C  4/4  90.0  False  False  False  False  False  False  False  False  False  False  False  False  False  False  False  False  False  False  False  False  False  False  False  False  False  False  False  False  False  False  False  False  False  False  False  False  False  False  False  False  False  False  False  False  True  False  False  False  False  False  False  False  False  False  False  False  False  False  False  False  False  False  False  False  False  False  False  False  False  False  False  False  False  False  False  False  False  False  False  False  False  False  False  False  False  False  False  False\n",
      "Electric guitar        27  C  4/4  90.0  False  False  False  False  False  False  False  False  False  False  False  False  False  False  False  False  False  False  False  False  False  False  False  False  False  False  False  False  False  False  False  False  False  False  False  False  False  False  False  False  False   True  False  False  True  False  False  False  False  False  False  False  False  False  False  False  False  False  False  False  False  False  False  False  False  False  False  False  False  False  False  False  False  False  False  False  False  False  False  False  False  False  False  False  False  False  False  False\n",
      "Electric guitar        27  C  4/4  90.0  False  False  False  False  False  False  False  False  False  False  False  False  False  False  False  False  False  False  False  False  False  False  False  False  False  False  False  False  False  False  False  False  False  False  False  False  False  False  False  False  False   True  False  False  True  False  False  False  False  False  False  False  False  False  False  False  False  False  False  False  False  False  False  False  False  False  False  False  False  False  False  False  False  False  False  False  False  False  False  False  False  False  False  False  False  False  False  False\n",
      "Electric guitar        27  C  4/4  90.0  False  False  False  False  False  False  False  False  False  False  False  False  False  False  False  False  False  False  False  False  False  False  False  False  False  False  False  False  False  False  False  False  False  False  False  False  False  False  False  False  False   True  False  False  True  False  False  False  False  False  False  False  False  False  False  False  False  False  False  False  False  False  False  False  False  False  False  False  False  False  False  False  False  False  False  False  False  False  False  False  False  False  False  False  False  False  False  False\n",
      "Electric guitar        27  C  4/4  90.0  False  False  False  False  False  False  False  False  False  False  False  False  False  False  False  False  False  False  False  False  False  False  False  False  False  False  False  False  False  False  False  False  False  False  False  False  False  False  False  False  False   True  False  False  True  False  False  False  False  False  False  False  False  False  False  False  False  False  False  False  False  False  False  False  False  False  False  False  False  False  False  False  False  False  False  False  False  False  False  False  False  False  False  False  False  False  False  False\n",
      "Electric guitar        27  C  4/4  90.0  False  False  False  False  False  False  False  False  False  False  False  False  False  False  False  False  False  False  False  False  False  False  False  False  False  False  False  False  False  False  False  False  False  False  False  False  False  False  False  False  False   True  False  False  True  False  False  False  False  False  False  False  False  False  False  False  False  False  False  False  False  False  False  False  False  False  False  False  False  False  False  False  False  False  False  False  False  False  False  False  False  False  False  False  False  False  False  False\n",
      "Electric guitar        27  C  4/4  90.0  False  False  False  False  False  False  False  False  False  False  False  False  False  False  False  False  False  False  False  False  False  False  False  False  False  False  False  False  False  False  False  False  False  False  False  False  False  False  False  False  False   True  False  False  True  False  False  False  False  False  False  False  False  False  False  False  False  False  False  False  False  False  False  False  False  False  False  False  False  False  False  False  False  False  False  False  False  False  False  False  False  False  False  False  False  False  False  False\n",
      "Electric guitar        27  C  4/4  90.0  False  False  False  False  False  False  False  False  False  False  False  False  False  False  False  False  False  False  False  False  False  False  False  False  False  False  False  False  False  False  False  False  False  False  False  False  False  False  False  False  False   True  False  False  True  False  False  False  False  False  False  False  False  False  False  False  False  False  False  False  False  False  False  False  False  False  False  False  False  False  False  False  False  False  False  False  False  False  False  False  False  False  False  False  False  False  False  False\n",
      "Electric guitar        27  C  4/4  90.0  False  False  False  False  False  False  False  False  False  False  False  False  False  False  False  False  False  False  False  False  False  False  False  False  False  False  False  False  False  False  False  False  False  False  False  False  False  False  False  False  False  False  False  False  True  False  False  False  False  False  False  False  False  False  False  False  False  False  False  False  False  False  False  False  False  False  False  False  False  False  False  False  False  False  False  False  False  False  False  False  False  False  False  False  False  False  False  False\n",
      "Electric guitar        27  C  4/4  90.0  False  False  False  False  False  False  False  False  False  False  False  False  False  False  False  False  False  False  False  False  False  False  False  False  False  False  False  False  False  False  False  False  False  False  False  False  False  False  False  False  False  False  False  False  True  False  False  False  False  False  False  False  False  False  False  False  False  False  False  False  False  False  False  False  False  False  False  False  False  False  False  False  False  False  False  False  False  False  False  False  False  False  False  False  False  False  False  False\n",
      "Electric guitar        27  C  4/4  90.0  False  False  False  False  False  False  False  False  False  False  False  False  False  False  False  False  False  False  False  False  False  False  False  False  False  False  False  False  False  False  False  False  False  False  False  False  False  False  False  False  False  False  False  False  True  False  False  False  False  False  False  False  False  False  False  False  False  False  False  False  False  False  False  False  False  False  False  False  False  False  False  False  False  False  False  False  False  False  False  False  False  False  False  False  False  False  False  False\n",
      "Electric guitar        27  C  4/4  90.0  False  False  False  False  False  False  False  False  False  False  False  False  False  False  False  False  False  False  False  False  False  False  False  False  False  False  False  False  False  False  False  False  False  False  False  False  False  False  False  False  False  False  False  False  True  False  False  False  False  False  False  False  False  False  False  False  False  False  False  False  False  False  False  False  False  False  False  False  False  False  False  False  False  False  False  False  False  False  False  False  False  False  False  False  False  False  False  False\n",
      "Electric guitar        27  C  4/4  90.0  False  False  False  False  False  False  False  False  False  False  False  False  False  False  False  False  False  False  False  False  False  False  False  False  False  False  False  False  False  False  False  False  False  False  False  False  False  False  False  False  False  False  False  False  True  False  False  False  False  False  False  False  False  False  False  False  False  False  False  False  False  False  False  False  False  False  False  False  False  False  False  False  False  False  False  False  False  False  False  False  False  False  False  False  False  False  False  False\n",
      "Electric guitar        27  C  4/4  90.0  False  False  False  False  False  False  False  False  False  False  False  False  False  False  False  False  False  False  False  False  False  False  False  False  False  False  False  False  False  False  False  False  False  False  False  False  False  False  False  False  False  False  False  False  True  False  False  False  False  False  False  False  False  False  False  False  False  False  False  False  False  False  False  False  False  False  False  False  False  False  False  False  False  False  False  False  False  False  False  False  False  False  False  False  False  False  False  False\n",
      "Electric guitar        27  C  4/4  90.0  False  False  False  False  False  False  False  False  False  False  False  False  False  False  False  False  False  False  False  False  False  False  False  False  False  False  False  False  False  False  False  False  False  False  False  False  False  False  False  False  False  False  False  False  True  False  False  False  False  False  False  False  False  False  False  False  False  False  False  False  False  False  False  False  False  False  False  False  False  False  False  False  False  False  False  False  False  False  False  False  False  False  False  False  False  False  False  False\n",
      "Electric guitar        27  C  4/4  90.0  False  False  False  False  False  False  False  False  False  False  False  False  False  False  False  False  False  False  False  False  False  False  False  False  False  False  False  False  False  False  False  False  False  False  False  False  False  False  False  False  False  False  False  False  True  False  False  False  False  False  False  False  False  False  False  False  False  False  False  False  False  False  False  False  False  False  False  False  False  False  False  False  False  False  False  False  False  False  False  False  False  False  False  False  False  False  False  False\n",
      "Electric guitar        27  C  4/4  90.0  False  False  False  False  False  False  False  False  False  False  False  False  False  False  False  False  False  False  False  False  False  False  False  False  False  False  False  False  False  False  False  False  False  False  False  False  False  False  False  False  False  False  False  False  True  False  False  False  False  False  False  False  False  False  False  False  False  False  False  False  False  False  False  False  False  False  False  False  False  False  False  False  False  False  False  False  False  False  False  False  False  False  False  False  False  False  False  False\n",
      "Electric guitar        27  C  4/4  90.0  False  False  False  False  False  False  False  False  False  False  False  False  False  False  False  False  False  False  False  False  False  False  False  False  False  False  False  False  False  False  False  False  False  False  False  False  False  False  False  False  False  False  False  False  True  False  False  False  False  False  False  False  False  False  False  False  False  False  False  False  False  False  False  False  False  False  False  False  False  False  False  False  False  False  False  False  False  False  False  False  False  False  False  False  False  False  False  False\n",
      "Electric guitar        27  C  4/4  90.0  False  False  False  False  False  False  False  False  False  False  False  False  False  False  False  False  False  False  False  False  False  False  False  False  False  False  False  False  False  False  False  False  False  False  False  False  False  False  False  False  False  False  False  False  True  False  False  False  False  False  False  False  False  False  False  False  False  False  False  False  False  False  False  False  False  False  False  False  False  False  False  False  False  False  False  False  False  False  False  False  False  False  False  False  False  False  False  False\n",
      "Electric guitar        27  C  4/4  90.0  False  False  False  False  False  False  False  False  False  False  False  False  False  False  False  False  False  False  False  False  False  False  False  False  False  False  False  False  False  False  False  False  False  False  False  False  False  False  False  False  False  False  False  False  True  False  False  False  False  False  False  False  False  False  False  False  False  False  False  False  False  False  False  False  False  False  False  False  False  False  False  False  False  False  False  False  False  False  False  False  False  False  False  False  False  False  False  False\n",
      "Electric guitar        27  C  4/4  90.0  False  False  False  False  False  False  False  False  False  False  False  False  False  False  False  False  False  False  False  False  False  False  False  False  False  False  False  False  False  False  False  False  False  False  False  False  False  False  False  False  False  False  False  False  True  False  False  False  False  False  False  False  False  False  False  False  False  False  False  False  False  False  False  False  False  False  False  False  False  False  False  False  False  False  False  False  False  False  False  False  False  False  False  False  False  False  False  False\n",
      "Electric guitar        27  C  4/4  90.0  False  False  False  False  False  False  False  False  False  False  False  False  False  False  False  False  False  False  False  False  False  False  False  False  False  False  False  False  False  False  False  False  False  False  False  False  False  False  False  False  False  False  False  False  True  False  False  False  False  False  False  False  False  False  False  False  False  False  False  False  False  False  False  False  False  False  False  False  False  False  False  False  False  False  False  False  False  False  False  False  False  False  False  False  False  False  False  False\n",
      "Electric guitar        27  C  4/4  90.0  False  False  False  False  False  False  False  False  False  False  False  False  False  False  False  False  False  False  False  False  False  False  False  False  False  False  False  False  False  False  False  False  False  False  False  False  False  False  False  False  False  False  False  False  True  False  False  False  False  False  False  False  False  False  False  False  False  False  False  False  False  False  False  False  False  False  False  False  False  False  False  False  False  False  False  False  False  False  False  False  False  False  False  False  False  False  False  False\n",
      "Electric guitar        27  C  4/4  90.0  False  False  False  False  False  False  False  False  False  False  False  False  False  False  False  False  False  False  False  False  False  False  False  False  False  False  False  False  False  False  False  False  False  False  False  False  False  False  False  False  False  False  False  False  True  False  False  False  False  False  False  False  False  False  False  False  False  False  False  False  False  False  False  False  False  False  False  False  False  False  False  False  False  False  False  False  False  False  False  False  False  False  False  False  False  False  False  False\n",
      "Electric guitar        27  C  4/4  90.0  False  False  False  False  False  False  False  False  False  False  False  False  False  False  False  False  False  False  False  False  False  False  False  False  False  False  False  False  False  False  False  False  False  False  False  False  False  False  False  False  False  False  False  False  True  False  False  False  False  False  False  False  False  False  False  False  False  False  False  False  False  False  False  False  False  False  False  False  False  False  False  False  False  False  False  False  False  False  False  False  False  False  False  False  False  False  False  False\n",
      "Electric guitar        27  C  4/4  90.0  False  False  False  False  False  False  False  False  False  False  False  False  False  False  False  False  False  False  False  False  False  False  False  False  False  False  False  False  False  False  False  False  False  False  False  False  False  False  False  False  False  False  False  False  True  False  False  False  False  False  False  False  False  False  False  False  False  False  False  False  False  False  False  False  False  False  False  False  False  False  False  False  False  False  False  False  False  False  False  False  False  False  False  False  False  False  False  False\n",
      "Electric guitar        27  C  4/4  90.0  False  False  False  False  False  False  False  False  False  False  False  False  False  False  False  False  False  False  False  False  False  False  False  False  False  False  False  False  False  False  False  False  False  False  False  False  False  False  False  False  False  False  False  False  True  False  False  False  False  False  False  False  False  False  False  False  False  False  False  False  False  False  False  False  False  False  False  False  False  False  False  False  False  False  False  False  False  False  False  False  False  False  False  False  False  False  False  False\n",
      "Electric guitar        27  C  4/4  90.0  False  False  False  False  False  False  False  False  False  False  False  False  False  False  False  False  False  False  False  False  False  False  False  False  False  False  False  False  False  False  False  False  False  False  False  False  False  False  False  False  False  False  False  False  True  False  False  False  False  False  False  False  False  False  False  False  False  False  False  False  False  False  False  False  False  False  False  False  False  False  False  False  False  False  False  False  False  False  False  False  False  False  False  False  False  False  False  False\n",
      "Electric guitar        27  C  4/4  90.0  False  False  False  False  False  False  False  False  False  False  False  False  False  False  False  False  False  False  False  False  False  False  False  False  False  False  False  False  False  False  False  False  False  False  False  False  False  False  False  False  False  False  False  False  True  False  False  False  False  False  False  False  False  False  False  False  False  False  False  False  False  False  False  False  False  False  False  False  False  False  False  False  False  False  False  False  False  False  False  False  False  False  False  False  False  False  False  False\n",
      "Electric guitar        27  C  4/4  90.0  False  False  False  False  False  False  False  False  False  False  False  False  False  False  False  False  False  False  False  False  False  False  False  False  False  False  False  False  False  False  False  False  False  False  False  False  False  False  False  False  False  False  False  False  True  False  False  False  False  False  False  False  False  False  False  False  False  False  False  False  False  False  False  False  False  False  False  False  False  False  False  False  False  False  False  False  False  False  False  False  False  False  False  False  False  False  False  False\n",
      "Electric guitar        27  C  4/4  90.0  False  False  False  False  False  False  False  False  False  False  False  False  False  False  False  False  False  False  False  False  False  False  False  False  False  False  False  False  False  False  False  False  False  False  False  False  False  False  False  False  False  False  False  False  True  False  False  False  False  False  False  False  False  False  False  False  False  False  False  False  False  False  False  False  False  False  False  False  False  False  False  False  False  False  False  False  False  False  False  False  False  False  False  False  False  False  False  False\n",
      "Electric guitar        27  C  4/4  90.0  False  False  False  False  False  False  False  False  False  False  False  False  False  False  False  False  False  False  False  False  False  False  False  False  False  False  False  False  False  False  False  False  False  False  False  False  False  False  False  False  False  False  False  False  True  False  False  False  False  False  False  False  False  False  False  False  False  False  False  False  False  False  False  False  False  False  False  False  False  False  False  False  False  False  False  False  False  False  False  False  False  False  False  False  False  False  False  False\n",
      "Electric guitar        27  C  4/4  90.0  False  False  False  False  False  False  False  False  False  False  False  False  False  False  False  False  False  False  False  False  False  False  False  False  False  False  False  False  False  False  False  False  False  False  False  False  False  False  False  False  False  False  False  False  True  False  False  False  False  False  False  False  False  False  False  False  False  False  False  False  False  False  False  False  False  False  False  False  False  False  False  False  False  False  False  False  False  False  False  False  False  False  False  False  False  False  False  False\n",
      "Electric guitar        27  C  4/4  90.0  False  False  False  False  False  False  False  False  False  False  False  False  False  False  False  False  False  False  False  False  False  False  False  False  False  False  False  False  False  False  False  False  False  False  False  False  False  False  False  False  False  False  False  False  True  False  False  False  False  False  False  False  False  False  False  False  False  False  False  False  False  False  False  False  False  False  False  False  False  False  False  False  False  False  False  False  False  False  False  False  False  False  False  False  False  False  False  False\n",
      "Electric guitar        27  C  4/4  90.0  False  False  False  False  False  False  False  False  False  False  False  False  False  False  False  False  False  False  False  False  False  False  False  False  False  False  False  False  False  False  False  False  False  False  False  False  False  False  False  False  False  False  False  False  True  False  False  False  False  False  False  False  False  False  False  False  False  False  False  False  False  False  False  False  False  False  False  False  False  False  False  False  False  False  False  False  False  False  False  False  False  False  False  False  False  False  False  False\n",
      "Electric guitar        27  C  4/4  90.0  False  False  False  False  False  False  False  False  False  False  False  False  False  False  False  False  False  False  False  False  False  False  False  False  False  False  False  False  False  False  False  False  False  False  False  False  False  False  False  False  False  False  False  False  True  False  False  False  False  False  False  False  False  False  False  False  False  False  False  False  False  False  False  False  False  False  False  False  False  False  False  False  False  False  False  False  False  False  False  False  False  False  False  False  False  False  False  False\n",
      "Electric guitar        27  C  4/4  90.0  False  False  False  False  False  False  False  False  False  False  False  False  False  False  False  False  False  False  False  False  False  False  False  False  False  False  False  False  False  False  False  False  False  False  False  False  False  False  False  False  False  False  False  False  True  False  False  False  False  False  False  False  False  False  False  False  False  False  False  False  False  False  False  False  False  False  False  False  False  False  False  False  False  False  False  False  False  False  False  False  False  False  False  False  False  False  False  False\n",
      "Electric guitar        27  C  4/4  90.0  False  False  False  False  False  False  False  False  False  False  False  False  False  False  False  False  False  False  False  False  False  False  False  False  False  False  False  False  False  False  False  False  False  False  False  False  False  False  False  False  False  False  False  False  True  False  False  False  False  False  False  False  False  False  False  False  False  False  False  False  False  False  False  False  False  False  False  False  False  False  False  False  False  False  False  False  False  False  False  False  False  False  False  False  False  False  False  False\n",
      "Electric guitar        27  C  4/4  90.0  False  False  False  False  False  False  False  False  False  False  False  False  False  False  False  False  False  False  False  False  False  False  False  False  False  False  False  False  False  False  False  False  False  False  False  False  False  False  False  False  False   True  False  False  True  False  False  False  False  False  False  False  False  False  False  False  False  False  False  False  False  False  False  False  False  False  False  False  False  False  False  False  False  False  False  False  False  False  False  False  False  False  False  False  False  False  False  False\n",
      "Electric guitar        27  C  4/4  90.0  False  False  False  False  False  False  False  False  False  False  False  False  False  False  False  False  False  False  False  False  False  False  False  False  False  False  False  False  False  False  False  False  False  False  False  False  False  False  False  False  False   True  False  False  True  False  False  False  False  False  False  False  False  False  False  False  False  False  False  False  False  False  False  False  False  False  False  False  False  False  False  False  False  False  False  False  False  False  False  False  False  False  False  False  False  False  False  False\n",
      "Electric guitar        27  C  4/4  90.0  False  False  False  False  False  False  False  False  False  False  False  False  False  False  False  False  False  False  False  False  False  False  False  False  False  False  False  False  False  False  False  False  False  False  False  False  False  False  False  False  False   True  False  False  True  False  False  False  False  False  False  False  False  False  False  False  False  False  False  False  False  False  False  False  False  False  False  False  False  False  False  False  False  False  False  False  False  False  False  False  False  False  False  False  False  False  False  False\n",
      "Electric guitar        27  C  4/4  90.0  False  False  False  False  False  False  False  False  False  False  False  False  False  False  False  False  False  False  False  False  False  False  False  False  False  False  False  False  False  False  False  False  False  False  False  False  False  False  False  False  False   True  False  False  True  False  False  False  False  False  False  False  False  False  False  False  False  False  False  False  False  False  False  False  False  False  False  False  False  False  False  False  False  False  False  False  False  False  False  False  False  False  False  False  False  False  False  False\n",
      "Electric guitar        27  C  4/4  90.0  False  False  False  False  False  False  False  False  False  False  False  False  False  False  False  False  False  False  False  False  False  False  False  False  False  False  False  False  False  False  False  False  False  False  False  False  False  False  False  False  False   True  False  False  True  False  False  False  False  False  False  False  False  False  False  False  False  False  False  False  False  False  False  False  False  False  False  False  False  False  False  False  False  False  False  False  False  False  False  False  False  False  False  False  False  False  False  False\n",
      "Electric guitar        27  C  4/4  90.0  False  False  False  False  False  False  False  False  False  False  False  False  False  False  False  False  False  False  False  False  False  False  False  False  False  False  False  False  False  False  False  False  False  False  False  False  False  False  False  False  False   True  False  False  True  False  False  False  False  False  False  False  False  False  False  False  False  False  False  False  False  False  False  False  False  False  False  False  False  False  False  False  False  False  False  False  False  False  False  False  False  False  False  False  False  False  False  False\n",
      "Electric guitar        27  C  4/4  90.0  False  False  False  False  False  False  False  False  False  False  False  False  False  False  False  False  False  False  False  False  False  False  False  False  False  False  False  False  False  False  False  False  False  False  False  False  False  False  False  False  False   True  False  False  True  False  False  False  False  False  False  False  False  False  False  False  False  False  False  False  False  False  False  False  False  False  False  False  False  False  False  False  False  False  False  False  False  False  False  False  False  False  False  False  False  False  False  False\n",
      "Electric guitar        27  C  4/4  90.0  False  False  False  False  False  False  False  False  False  False  False  False  False  False  False  False  False  False  False  False  False  False  False  False  False  False  False  False  False  False  False  False  False  False  False  False  False  False  False  False  False   True  False  False  True  False  False  False  False  False  False  False  False  False  False  False  False  False  False  False  False  False  False  False  False  False  False  False  False  False  False  False  False  False  False  False  False  False  False  False  False  False  False  False  False  False  False  False\n",
      "Electric guitar        27  C  4/4  90.0  False  False  False  False  False  False  False  False  False  False  False  False  False  False  False  False  False  False  False  False  False  False  False  False  False  False  False  False  False  False  False  False  False  False  False  False  False  False  False  False  False  False  False  False  True  False  False  False  False  False  False  False  False  False  False  False  False  False  False  False  False  False  False  False  False  False  False  False  False  False  False  False  False  False  False  False  False  False  False  False  False  False  False  False  False  False  False  False\n",
      "Electric guitar        27  C  4/4  90.0  False  False  False  False  False  False  False  False  False  False  False  False  False  False  False  False  False  False  False  False  False  False  False  False  False  False  False  False  False  False  False  False  False  False  False  False  False  False  False  False  False  False  False  False  True  False  False  False  False  False  False  False  False  False  False  False  False  False  False  False  False  False  False  False  False  False  False  False  False  False  False  False  False  False  False  False  False  False  False  False  False  False  False  False  False  False  False  False\n",
      "Electric guitar        27  C  4/4  90.0  False  False  False  False  False  False  False  False  False  False  False  False  False  False  False  False  False  False  False  False  False  False  False  False  False  False  False  False  False  False  False  False  False  False  False  False  False  False  False  False  False  False  False  False  True  False  False  False  False  False  False  False  False  False  False  False  False  False  False  False  False  False  False  False  False  False  False  False  False  False  False  False  False  False  False  False  False  False  False  False  False  False  False  False  False  False  False  False\n",
      "Electric guitar        27  C  4/4  90.0  False  False  False  False  False  False  False  False  False  False  False  False  False  False  False  False  False  False  False  False  False  False  False  False  False  False  False  False  False  False  False  False  False  False  False  False  False  False  False  False  False  False  False  False  True  False  False  False  False  False  False  False  False  False  False  False  False  False  False  False  False  False  False  False  False  False  False  False  False  False  False  False  False  False  False  False  False  False  False  False  False  False  False  False  False  False  False  False\n",
      "Electric guitar        27  C  4/4  90.0  False  False  False  False  False  False  False  False  False  False  False  False  False  False  False  False  False  False  False  False  False  False  False  False  False  False  False  False  False  False  False  False  False  False  False  False  False  False  False  False  False  False  False  False  True  False  False  False  False  False  False  False  False  False  False  False  False  False  False  False  False  False  False  False  False  False  False  False  False  False  False  False  False  False  False  False  False  False  False  False  False  False  False  False  False  False  False  False\n",
      "Electric guitar        27  C  4/4  90.0  False  False  False  False  False  False  False  False  False  False  False  False  False  False  False  False  False  False  False  False  False  False  False  False  False  False  False  False  False  False  False  False  False  False  False  False  False  False  False  False  False  False  False  False  True  False  False  False  False  False  False  False  False  False  False  False  False  False  False  False  False  False  False  False  False  False  False  False  False  False  False  False  False  False  False  False  False  False  False  False  False  False  False  False  False  False  False  False\n",
      "Electric guitar        27  C  4/4  90.0  False  False  False  False  False  False  False  False  False  False  False  False  False  False  False  False  False  False  False  False  False  False  False  False  False  False  False  False  False  False  False  False  False  False  False  False  False  False  False  False  False  False  False  False  True  False  False  False  False  False  False  False  False  False  False  False  False  False  False  False  False  False  False  False  False  False  False  False  False  False  False  False  False  False  False  False  False  False  False  False  False  False  False  False  False  False  False  False\n",
      "Electric guitar        27  C  4/4  90.0  False  False  False  False  False  False  False  False  False  False  False  False  False  False  False  False  False  False  False  False  False  False  False  False  False  False  False  False  False  False  False  False  False  False  False  False  False  False  False  False  False  False  False  False  True  False  False  False  False  False  False  False  False  False  False  False  False  False  False  False  False  False  False  False  False  False  False  False  False  False  False  False  False  False  False  False  False  False  False  False  False  False  False  False  False  False  False  False\n",
      "Electric guitar        27  C  4/4  90.0  False  False  False  False  False  False  False  False  False  False  False  False  False  False  False  False  False  False  False  False  False  False  False  False  False  False  False  False  False  False  False  False  False  False  False  False  False  False  False  False  False  False  False  False  True  False  False  False  False  False  False  False  False  False  False  False  False  False  False  False  False  False  False  False  False  False  False  False  False  False  False  False  False  False  False  False  False  False  False  False  False  False  False  False  False  False  False  False\n",
      "Electric guitar        27  C  4/4  90.0  False  False  False  False  False  False  False  False  False  False  False  False  False  False  False  False  False  False  False  False  False  False  False  False  False  False  False  False  False  False  False  False  False  False  False  False  False  False  False  False  False  False  False  False  True  False  False  False  False  False  False  False  False  False  False  False  False  False  False  False  False  False  False  False  False  False  False  False  False  False  False  False  False  False  False  False  False  False  False  False  False  False  False  False  False  False  False  False\n",
      "Electric guitar        27  C  4/4  90.0  False  False  False  False  False  False  False  False  False  False  False  False  False  False  False  False  False  False  False  False  False  False  False  False  False  False  False  False  False  False  False  False  False  False  False  False  False  False  False  False  False  False  False  False  True  False  False  False  False  False  False  False  False  False  False  False  False  False  False  False  False  False  False  False  False  False  False  False  False  False  False  False  False  False  False  False  False  False  False  False  False  False  False  False  False  False  False  False\n",
      "Electric guitar        27  C  4/4  90.0  False  False  False  False  False  False  False  False  False  False  False  False  False  False  False  False  False  False  False  False  False  False  False  False  False  False  False  False  False  False  False  False  False  False  False  False  False  False  False  False  False  False  False  False  True  False  False  False  False  False  False  False  False  False  False  False  False  False  False  False  False  False  False  False  False  False  False  False  False  False  False  False  False  False  False  False  False  False  False  False  False  False  False  False  False  False  False  False\n",
      "Electric guitar        27  C  4/4  90.0  False  False  False  False  False  False  False  False  False  False  False  False  False  False  False  False  False  False  False  False  False  False  False  False  False  False  False  False  False  False  False  False  False  False  False  False  False  False  False  False  False  False  False  False  True  False  False  False  False  False  False  False  False  False  False  False  False  False  False  False  False  False  False  False  False  False  False  False  False  False  False  False  False  False  False  False  False  False  False  False  False  False  False  False  False  False  False  False\n",
      "Electric guitar        27  C  4/4  90.0  False  False  False  False  False  False  False  False  False  False  False  False  False  False  False  False  False  False  False  False  False  False  False  False  False  False  False  False  False  False  False  False  False  False  False  False  False  False  False  False  False  False  False  False  True  False  False  False  False  False  False  False  False  False  False  False  False  False  False  False  False  False  False  False  False  False  False  False  False  False  False  False  False  False  False  False  False  False  False  False  False  False  False  False  False  False  False  False\n",
      "Electric guitar        27  C  4/4  90.0  False  False  False  False  False  False  False  False  False  False  False  False  False  False  False  False  False  False  False  False  False  False  False  False  False  False  False  False  False  False  False  False  False  False  False  False  False  False  False  False  False  False  False  False  True  False  False  False  False  False  False  False  False  False  False  False  False  False  False  False  False  False  False  False  False  False  False  False  False  False  False  False  False  False  False  False  False  False  False  False  False  False  False  False  False  False  False  False\n",
      "Electric guitar        27  C  4/4  90.0  False  False  False  False  False  False  False  False  False  False  False  False  False  False  False  False  False  False  False  False  False  False  False  False  False  False  False  False  False  False  False  False  False  False  False  False  False  False  False  False  False  False  False  False  True  False  False  False  False  False  False  False  False  False  False  False  False  False  False  False  False  False  False  False  False  False  False  False  False  False  False  False  False  False  False  False  False  False  False  False  False  False  False  False  False  False  False  False\n",
      "Electric guitar        27  C  4/4  90.0  False  False  False  False  False  False  False  False  False  False  False  False  False  False  False  False  False  False  False  False  False  False  False  False  False  False  False  False  False  False  False  False  False  False  False  False  False  False  False  False  False  False  False  False  True  False  False  False  False  False  False  False  False  False  False  False  False  False  False  False  False  False  False  False  False  False  False  False  False  False  False  False  False  False  False  False  False  False  False  False  False  False  False  False  False  False  False  False\n",
      "Electric guitar        27  C  4/4  90.0  False  False  False  False  False  False  False  False  False  False  False  False  False  False  False  False  False  False  False  False  False  False  False  False  False  False  False  False  False  False  False  False  False  False  False  False  False  False  False  False  False  False  False  False  True  False  False  False  False  False  False  False  False  False  False  False  False  False  False  False  False  False  False  False  False  False  False  False  False  False  False  False  False  False  False  False  False  False  False  False  False  False  False  False  False  False  False  False\n",
      "Electric guitar        27  C  4/4  90.0  False  False  False  False  False  False  False  False  False  False  False  False  False  False  False  False  False  False  False  False  False  False  False  False  False  False  False  False  False  False  False  False  False  False  False  False  False  False  False  False  False  False  False  False  True  False  False  False  False  False  False  False  False  False  False  False  False  False  False  False  False  False  False  False  False  False  False  False  False  False  False  False  False  False  False  False  False  False  False  False  False  False  False  False  False  False  False  False\n",
      "Electric guitar        27  C  4/4  90.0  False  False  False  False  False  False  False  False  False  False  False  False  False  False  False  False  False  False  False  False  False  False  False  False  False  False  False  False  False  False  False  False  False  False  False  False  False  False  False  False  False  False  False  False  True  False  False  False  False  False  False  False  False  False  False  False  False  False  False  False  False  False  False  False  False  False  False  False  False  False  False  False  False  False  False  False  False  False  False  False  False  False  False  False  False  False  False  False\n",
      "Electric guitar        27  C  4/4  90.0  False  False  False  False  False  False  False  False  False  False  False  False  False  False  False  False  False  False  False  False  False  False  False  False  False  False  False  False  False  False  False  False  False  False  False  False  False  False  False  False  False  False  False  False  True  False  False  False  False  False  False  False  False  False  False  False  False  False  False  False  False  False  False  False  False  False  False  False  False  False  False  False  False  False  False  False  False  False  False  False  False  False  False  False  False  False  False  False\n",
      "Electric guitar        27  C  4/4  90.0  False  False  False  False  False  False  False  False  False  False  False  False  False  False  False  False  False  False  False  False  False  False  False  False  False  False  False  False  False  False  False  False  False  False  False  False  False  False  False  False  False  False  False  False  True  False  False  False  False  False  False  False  False  False  False  False  False  False  False  False  False  False  False  False  False  False  False  False  False  False  False  False  False  False  False  False  False  False  False  False  False  False  False  False  False  False  False  False\n",
      "Electric guitar        27  C  4/4  90.0  False  False  False  False  False  False  False  False  False  False  False  False  False  False  False  False  False  False  False  False  False  False  False  False  False  False  False  False  False  False  False  False  False  False  False  False  False  False  False  False  False  False  False  False  True  False  False  False  False  False  False  False  False  False  False  False  False  False  False  False  False  False  False  False  False  False  False  False  False  False  False  False  False  False  False  False  False  False  False  False  False  False  False  False  False  False  False  False\n",
      "Electric guitar        27  C  4/4  90.0  False  False  False  False  False  False  False  False  False  False  False  False  False  False  False  False  False  False  False  False  False  False  False  False  False  False  False  False  False  False  False  False  False  False  False  False  False  False  False  False  False  False  False  False  True  False  False  False  False  False  False  False  False  False  False  False  False  False  False  False  False  False  False  False  False  False  False  False  False  False  False  False  False  False  False  False  False  False  False  False  False  False  False  False  False  False  False  False\n",
      "Electric guitar        27  C  4/4  90.0  False  False  False  False  False  False  False  False  False  False  False  False  False  False  False  False  False  False  False  False  False  False  False  False  False  False  False  False  False  False  False  False  False  False  False  False  False  False  False  False  False  False  False  False  True  False  False  False  False  False  False  False  False  False  False  False  False  False  False  False  False  False  False  False  False  False  False  False  False  False  False  False  False  False  False  False  False  False  False  False  False  False  False  False  False  False  False  False\n",
      "Electric guitar        27  C  4/4  90.0  False  False  False  False  False  False  False  False  False  False  False  False  False  False  False  False  False  False  False  False  False  False  False  False  False  False  False  False  False  False  False  False  False  False  False  False  False  False  False  False  False  False  False  False  True  False  False  False  False  False  False  False  False  False  False  False  False  False  False  False  False  False  False  False  False  False  False  False  False  False  False  False  False  False  False  False  False  False  False  False  False  False  False  False  False  False  False  False\n",
      "Electric guitar        27  C  4/4  90.0  False  False  False  False  False  False  False  False  False  False  False  False  False  False  False  False  False  False  False  False  False  False  False  False  False  False  False  False  False  False  False  False  False  False  False  False  False  False  False  False  False  False  False  False  True  False  False  False  False  False  False  False  False  False  False  False  False  False  False  False  False  False  False  False  False  False  False  False  False  False  False  False  False  False  False  False  False  False  False  False  False  False  False  False  False  False  False  False\n",
      "Electric guitar        27  C  4/4  90.0  False  False  False  False  False  False  False  False  False  False  False  False  False  False  False  False  False  False  False  False  False  False  False  False  False  False  False  False  False  False  False  False  False  False  False  False  False  False  False  False  False  False  False  False  True  False  False  False  False  False  False  False  False  False  False  False  False  False  False  False  False  False  False  False  False  False  False  False  False  False  False  False  False  False  False  False  False  False  False  False  False  False  False  False  False  False  False  False\n"
     ]
    }
   ],
   "source": [
    "# Merge StackFrame and Info blocks\n",
    "generated_representation = mergeData(generated_info, generated_performance, INSTRUMENT, SETTINGS.KEYBOARD_OFFSET)\n",
    "# Concat the context and the generated part\n",
    "generated_full = pd.concat([CONTEXT, generated_representation])\n",
    "\n",
    "print(f'Generated representation: \\n {generated_representation.to_string()}')"
   ]
  },
  {
   "cell_type": "markdown",
   "id": "30847d4b-2296-4137-b244-29adb897c6b3",
   "metadata": {
    "gradient": {
     "editing": false
    }
   },
   "source": [
    "##### Send generated representation to the decoder module and plot result"
   ]
  },
  {
   "cell_type": "code",
   "execution_count": 168,
   "id": "54c319cc-5829-49e0-9680-6ddbf9880bf5",
   "metadata": {
    "collapsed": false,
    "gradient": {
     "editing": true,
     "source_hidden": false
    }
   },
   "outputs": [
    {
     "data": {
      "text/plain": "<Figure size 720x432 with 1 Axes>",
      "image/png": "[encoded data removed]"
     },
     "metadata": {
      "image/png": {
       "width": 584,
       "height": 382
      }
     },
     "output_type": "display_data"
    }
   ],
   "source": [
    "OUTPUT_PATH = f'models/results/The Pretender_test.mid'\n",
    "\n",
    "# Send representation to decoder\n",
    "generated = deserialisation.file(generated_full, SETTINGS, save_as=OUTPUT_PATH)\n",
    "\n",
    "generated.plot()"
   ]
  },
  {
   "cell_type": "markdown",
   "id": "12e76143-1250-478c-8afc-21a007c4b2c7",
   "metadata": {
    "gradient": {
     "editing": false
    }
   },
   "source": [
    "# HEARING GENERATED\n",
    "##### Now we can play the generated midi file"
   ]
  },
  {
   "cell_type": "code",
   "execution_count": 169,
   "id": "96361bc9-9704-4dab-afff-c9f1b5ddd230",
   "metadata": {
    "collapsed": false,
    "gradient": {
     "editing": false,
     "source_hidden": false
    },
    "pycharm": {
     "name": "#%%\n"
    }
   },
   "outputs": [],
   "source": [
    "# synth = midi2audio.FluidSynth()\n",
    "# synth.midi_to_audio(OUTPUT_PATH+'.mid', OUTPUT_PATH+'.mid'+'.wav')\n",
    "# synth.play_midi()\n",
    "\n",
    "# https://stackoverflow.com/questions/6030087/play-midi-files-in-python\n",
    "def play_music(midi_filename):\n",
    "  '''Stream music_file in a blocking manner'''\n",
    "  clock = pygame.time.Clock()\n",
    "  pygame.mixer.music.load(midi_filename)\n",
    "  pygame.mixer.music.play()\n",
    "  while pygame.mixer.music.get_busy():\n",
    "    clock.tick(30) # check if playback has finished\n",
    "\n",
    "midi_filename = OUTPUT_PATH\n",
    "\n",
    "# mixer config\n",
    "freq = 44100  # audio CD quality\n",
    "bitsize = -16   # unsigned 16 bit\n",
    "channels = 2  # 1 is mono, 2 is stereo\n",
    "buffer = 1024   # number of samples\n",
    "pygame.mixer.init(freq, bitsize, channels, buffer)\n",
    "\n",
    "# optional volume 0 to 1.0\n",
    "pygame.mixer.music.set_volume(0.8)\n",
    "\n",
    "play_music(midi_filename)"
   ]
  }
 ],
 "metadata": {
  "kernelspec": {
   "display_name": "Python 3",
   "language": "python",
   "name": "python3"
  },
  "language_info": {
   "codemirror_mode": {
    "name": "ipython",
    "version": 3
   },
   "file_extension": ".py",
   "mimetype": "text/x-python",
   "name": "python",
   "nbconvert_exporter": "python",
   "pygments_lexer": "ipython3",
   "version": "3.8.5"
  }
 },
 "nbformat": 4,
 "nbformat_minor": 5
}